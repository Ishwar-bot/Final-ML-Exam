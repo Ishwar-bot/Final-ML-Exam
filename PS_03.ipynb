{
 "cells": [
  {
   "cell_type": "markdown",
   "id": "410c42b5",
   "metadata": {
    "heading_collapsed": true
   },
   "source": [
    "# Problem Statement"
   ]
  },
  {
   "cell_type": "markdown",
   "id": "de02ed76",
   "metadata": {
    "hidden": true
   },
   "source": [
    "Predicting Shopping Mall Sales. You will have to create model to predict revenue. Identify the model with best params. Target Column - Revenue. Data Link - https://github.com/edyoda/data-science-complete-tutorial/blob/master/Data/Shopping_Revenue.csv"
   ]
  },
  {
   "cell_type": "markdown",
   "id": "585a0f77",
   "metadata": {
    "heading_collapsed": true,
    "hidden": true
   },
   "source": [
    "## Importing basic libraries "
   ]
  },
  {
   "cell_type": "code",
   "execution_count": 1,
   "id": "e266948c",
   "metadata": {
    "hidden": true
   },
   "outputs": [],
   "source": [
    "import numpy as np\n",
    "import pandas as pd\n",
    "import matplotlib.pyplot as plt\n",
    "import seaborn as sns"
   ]
  },
  {
   "cell_type": "markdown",
   "id": "d22f7fe0",
   "metadata": {
    "heading_collapsed": true,
    "hidden": true
   },
   "source": [
    "## Loading Data"
   ]
  },
  {
   "cell_type": "code",
   "execution_count": 36,
   "id": "c4f78eee",
   "metadata": {
    "hidden": true
   },
   "outputs": [
    {
     "data": {
      "text/html": [
       "<div>\n",
       "<style scoped>\n",
       "    .dataframe tbody tr th:only-of-type {\n",
       "        vertical-align: middle;\n",
       "    }\n",
       "\n",
       "    .dataframe tbody tr th {\n",
       "        vertical-align: top;\n",
       "    }\n",
       "\n",
       "    .dataframe thead th {\n",
       "        text-align: right;\n",
       "    }\n",
       "</style>\n",
       "<table border=\"1\" class=\"dataframe\">\n",
       "  <thead>\n",
       "    <tr style=\"text-align: right;\">\n",
       "      <th></th>\n",
       "      <th>Open Date</th>\n",
       "      <th>City</th>\n",
       "      <th>City Group</th>\n",
       "      <th>Type</th>\n",
       "      <th>P1</th>\n",
       "      <th>P2</th>\n",
       "      <th>P3</th>\n",
       "      <th>P4</th>\n",
       "      <th>P5</th>\n",
       "      <th>P6</th>\n",
       "      <th>...</th>\n",
       "      <th>P29</th>\n",
       "      <th>P30</th>\n",
       "      <th>P31</th>\n",
       "      <th>P32</th>\n",
       "      <th>P33</th>\n",
       "      <th>P34</th>\n",
       "      <th>P35</th>\n",
       "      <th>P36</th>\n",
       "      <th>P37</th>\n",
       "      <th>revenue</th>\n",
       "    </tr>\n",
       "    <tr>\n",
       "      <th>Id</th>\n",
       "      <th></th>\n",
       "      <th></th>\n",
       "      <th></th>\n",
       "      <th></th>\n",
       "      <th></th>\n",
       "      <th></th>\n",
       "      <th></th>\n",
       "      <th></th>\n",
       "      <th></th>\n",
       "      <th></th>\n",
       "      <th></th>\n",
       "      <th></th>\n",
       "      <th></th>\n",
       "      <th></th>\n",
       "      <th></th>\n",
       "      <th></th>\n",
       "      <th></th>\n",
       "      <th></th>\n",
       "      <th></th>\n",
       "      <th></th>\n",
       "      <th></th>\n",
       "    </tr>\n",
       "  </thead>\n",
       "  <tbody>\n",
       "    <tr>\n",
       "      <th>0</th>\n",
       "      <td>7/17/1999</td>\n",
       "      <td>İstanbul</td>\n",
       "      <td>Big Cities</td>\n",
       "      <td>IL</td>\n",
       "      <td>4</td>\n",
       "      <td>5.0</td>\n",
       "      <td>4.0</td>\n",
       "      <td>4.0</td>\n",
       "      <td>2</td>\n",
       "      <td>2.0</td>\n",
       "      <td>...</td>\n",
       "      <td>3.0</td>\n",
       "      <td>5</td>\n",
       "      <td>3</td>\n",
       "      <td>4</td>\n",
       "      <td>5</td>\n",
       "      <td>5</td>\n",
       "      <td>4</td>\n",
       "      <td>3</td>\n",
       "      <td>4</td>\n",
       "      <td>5653753</td>\n",
       "    </tr>\n",
       "    <tr>\n",
       "      <th>1</th>\n",
       "      <td>2/14/2008</td>\n",
       "      <td>Ankara</td>\n",
       "      <td>Big Cities</td>\n",
       "      <td>FC</td>\n",
       "      <td>4</td>\n",
       "      <td>5.0</td>\n",
       "      <td>4.0</td>\n",
       "      <td>4.0</td>\n",
       "      <td>1</td>\n",
       "      <td>2.0</td>\n",
       "      <td>...</td>\n",
       "      <td>3.0</td>\n",
       "      <td>0</td>\n",
       "      <td>0</td>\n",
       "      <td>0</td>\n",
       "      <td>0</td>\n",
       "      <td>0</td>\n",
       "      <td>0</td>\n",
       "      <td>0</td>\n",
       "      <td>0</td>\n",
       "      <td>6923131</td>\n",
       "    </tr>\n",
       "    <tr>\n",
       "      <th>2</th>\n",
       "      <td>3/9/2013</td>\n",
       "      <td>Diyarbakır</td>\n",
       "      <td>Other</td>\n",
       "      <td>IL</td>\n",
       "      <td>2</td>\n",
       "      <td>4.0</td>\n",
       "      <td>2.0</td>\n",
       "      <td>5.0</td>\n",
       "      <td>2</td>\n",
       "      <td>3.0</td>\n",
       "      <td>...</td>\n",
       "      <td>3.0</td>\n",
       "      <td>0</td>\n",
       "      <td>0</td>\n",
       "      <td>0</td>\n",
       "      <td>0</td>\n",
       "      <td>0</td>\n",
       "      <td>0</td>\n",
       "      <td>0</td>\n",
       "      <td>0</td>\n",
       "      <td>2055379</td>\n",
       "    </tr>\n",
       "    <tr>\n",
       "      <th>3</th>\n",
       "      <td>2/2/2012</td>\n",
       "      <td>Tokat</td>\n",
       "      <td>Other</td>\n",
       "      <td>IL</td>\n",
       "      <td>6</td>\n",
       "      <td>4.5</td>\n",
       "      <td>6.0</td>\n",
       "      <td>6.0</td>\n",
       "      <td>4</td>\n",
       "      <td>4.0</td>\n",
       "      <td>...</td>\n",
       "      <td>7.5</td>\n",
       "      <td>25</td>\n",
       "      <td>12</td>\n",
       "      <td>10</td>\n",
       "      <td>6</td>\n",
       "      <td>18</td>\n",
       "      <td>12</td>\n",
       "      <td>12</td>\n",
       "      <td>6</td>\n",
       "      <td>2675511</td>\n",
       "    </tr>\n",
       "    <tr>\n",
       "      <th>4</th>\n",
       "      <td>5/9/2009</td>\n",
       "      <td>Gaziantep</td>\n",
       "      <td>Other</td>\n",
       "      <td>IL</td>\n",
       "      <td>3</td>\n",
       "      <td>4.0</td>\n",
       "      <td>3.0</td>\n",
       "      <td>4.0</td>\n",
       "      <td>2</td>\n",
       "      <td>2.0</td>\n",
       "      <td>...</td>\n",
       "      <td>3.0</td>\n",
       "      <td>5</td>\n",
       "      <td>1</td>\n",
       "      <td>3</td>\n",
       "      <td>2</td>\n",
       "      <td>3</td>\n",
       "      <td>4</td>\n",
       "      <td>3</td>\n",
       "      <td>3</td>\n",
       "      <td>4316715</td>\n",
       "    </tr>\n",
       "  </tbody>\n",
       "</table>\n",
       "<p>5 rows × 42 columns</p>\n",
       "</div>"
      ],
      "text/plain": [
       "    Open Date        City  City Group Type  P1   P2   P3   P4  P5   P6  ...  \\\n",
       "Id                                                                      ...   \n",
       "0   7/17/1999    İstanbul  Big Cities   IL   4  5.0  4.0  4.0   2  2.0  ...   \n",
       "1   2/14/2008      Ankara  Big Cities   FC   4  5.0  4.0  4.0   1  2.0  ...   \n",
       "2    3/9/2013  Diyarbakır       Other   IL   2  4.0  2.0  5.0   2  3.0  ...   \n",
       "3    2/2/2012       Tokat       Other   IL   6  4.5  6.0  6.0   4  4.0  ...   \n",
       "4    5/9/2009   Gaziantep       Other   IL   3  4.0  3.0  4.0   2  2.0  ...   \n",
       "\n",
       "    P29  P30  P31  P32  P33  P34  P35  P36  P37  revenue  \n",
       "Id                                                        \n",
       "0   3.0    5    3    4    5    5    4    3    4  5653753  \n",
       "1   3.0    0    0    0    0    0    0    0    0  6923131  \n",
       "2   3.0    0    0    0    0    0    0    0    0  2055379  \n",
       "3   7.5   25   12   10    6   18   12   12    6  2675511  \n",
       "4   3.0    5    1    3    2    3    4    3    3  4316715  \n",
       "\n",
       "[5 rows x 42 columns]"
      ]
     },
     "execution_count": 36,
     "metadata": {},
     "output_type": "execute_result"
    }
   ],
   "source": [
    "link = \"https://raw.githubusercontent.com/edyoda/data-science-complete-tutorial/master/Data/Shopping_Revenue.csv\"\n",
    "df = pd.read_csv(link, index_col = \"Id\")\n",
    "df.head(5)"
   ]
  },
  {
   "cell_type": "markdown",
   "id": "1cac8bbd",
   "metadata": {
    "heading_collapsed": true
   },
   "source": [
    "# Exploratory Data Analysis "
   ]
  },
  {
   "cell_type": "markdown",
   "id": "3dc1e3be",
   "metadata": {
    "heading_collapsed": true,
    "hidden": true
   },
   "source": [
    "## Understanding DataFrame Structure"
   ]
  },
  {
   "cell_type": "code",
   "execution_count": 13,
   "id": "25be29f6",
   "metadata": {
    "hidden": true
   },
   "outputs": [
    {
     "data": {
      "text/plain": [
       "(137, 42)"
      ]
     },
     "execution_count": 13,
     "metadata": {},
     "output_type": "execute_result"
    }
   ],
   "source": [
    "df.shape"
   ]
  },
  {
   "cell_type": "code",
   "execution_count": 14,
   "id": "e78e1a57",
   "metadata": {
    "hidden": true
   },
   "outputs": [
    {
     "name": "stdout",
     "output_type": "stream",
     "text": [
      "<class 'pandas.core.frame.DataFrame'>\n",
      "Int64Index: 137 entries, 0 to 136\n",
      "Data columns (total 42 columns):\n",
      " #   Column      Non-Null Count  Dtype  \n",
      "---  ------      --------------  -----  \n",
      " 0   Open Date   137 non-null    object \n",
      " 1   City        137 non-null    object \n",
      " 2   City Group  137 non-null    object \n",
      " 3   Type        137 non-null    object \n",
      " 4   P1          137 non-null    int64  \n",
      " 5   P2          137 non-null    float64\n",
      " 6   P3          137 non-null    float64\n",
      " 7   P4          137 non-null    float64\n",
      " 8   P5          137 non-null    int64  \n",
      " 9   P6          133 non-null    float64\n",
      " 10  P7          133 non-null    float64\n",
      " 11  P8          137 non-null    int64  \n",
      " 12  P9          137 non-null    int64  \n",
      " 13  P10         137 non-null    int64  \n",
      " 14  P11         137 non-null    int64  \n",
      " 15  P12         137 non-null    int64  \n",
      " 16  P13         137 non-null    float64\n",
      " 17  P14         137 non-null    int64  \n",
      " 18  P15         137 non-null    int64  \n",
      " 19  P16         137 non-null    int64  \n",
      " 20  P17         137 non-null    int64  \n",
      " 21  P18         137 non-null    int64  \n",
      " 22  P19         137 non-null    int64  \n",
      " 23  P20         137 non-null    int64  \n",
      " 24  P21         137 non-null    int64  \n",
      " 25  P22         137 non-null    int64  \n",
      " 26  P23         137 non-null    int64  \n",
      " 27  P24         137 non-null    int64  \n",
      " 28  P25         137 non-null    int64  \n",
      " 29  P26         137 non-null    float64\n",
      " 30  P27         137 non-null    float64\n",
      " 31  P28         137 non-null    float64\n",
      " 32  P29         137 non-null    float64\n",
      " 33  P30         137 non-null    int64  \n",
      " 34  P31         137 non-null    int64  \n",
      " 35  P32         137 non-null    int64  \n",
      " 36  P33         137 non-null    int64  \n",
      " 37  P34         137 non-null    int64  \n",
      " 38  P35         137 non-null    int64  \n",
      " 39  P36         137 non-null    int64  \n",
      " 40  P37         137 non-null    int64  \n",
      " 41  revenue     137 non-null    int64  \n",
      "dtypes: float64(10), int64(28), object(4)\n",
      "memory usage: 46.0+ KB\n"
     ]
    }
   ],
   "source": [
    "df.info()"
   ]
  },
  {
   "cell_type": "markdown",
   "id": "9a70124e",
   "metadata": {
    "hidden": true
   },
   "source": [
    "- converting 'Open Date' into year as no point of using pandas.datetime object as no algorithm can work on it"
   ]
  },
  {
   "cell_type": "code",
   "execution_count": 37,
   "id": "b0eadf88",
   "metadata": {
    "hidden": true
   },
   "outputs": [
    {
     "data": {
      "text/plain": [
       "Id\n",
       "0      1999\n",
       "1      2008\n",
       "2      2013\n",
       "3      2012\n",
       "4      2009\n",
       "       ... \n",
       "132    2008\n",
       "133    2006\n",
       "134    2006\n",
       "135    2010\n",
       "136    2009\n",
       "Name: Open Year, Length: 137, dtype: int64"
      ]
     },
     "execution_count": 37,
     "metadata": {},
     "output_type": "execute_result"
    }
   ],
   "source": [
    "df[\"Open Year\"] = df[\"Open Date\"].apply(lambda x: int(x[len(x): len(x) - 5:-1][::-1]))\n",
    "df = df.drop(labels = \"Open Date\", axis = 1)\n",
    "df[\"Open Year\"]"
   ]
  },
  {
   "cell_type": "markdown",
   "id": "805f068e",
   "metadata": {
    "heading_collapsed": true,
    "hidden": true
   },
   "source": [
    "## Categorical Data Analysis"
   ]
  },
  {
   "cell_type": "markdown",
   "id": "7ae85425",
   "metadata": {
    "hidden": true
   },
   "source": [
    "- We have 3 categorical variables. 'City', 'City Group' and 'Type'"
   ]
  },
  {
   "cell_type": "code",
   "execution_count": 38,
   "id": "b0c9bc40",
   "metadata": {
    "hidden": true
   },
   "outputs": [
    {
     "data": {
      "text/plain": [
       "34"
      ]
     },
     "execution_count": 38,
     "metadata": {},
     "output_type": "execute_result"
    }
   ],
   "source": [
    "df[\"City\"].nunique()"
   ]
  },
  {
   "cell_type": "code",
   "execution_count": 42,
   "id": "bf1b2f63",
   "metadata": {
    "hidden": true
   },
   "outputs": [
    {
     "data": {
      "text/plain": [
       "array(['Big Cities', 'Other'], dtype=object)"
      ]
     },
     "execution_count": 42,
     "metadata": {},
     "output_type": "execute_result"
    }
   ],
   "source": [
    "df[\"City Group\"].unique()"
   ]
  },
  {
   "cell_type": "code",
   "execution_count": 43,
   "id": "53be765f",
   "metadata": {
    "hidden": true
   },
   "outputs": [
    {
     "data": {
      "text/plain": [
       "array(['IL', 'FC', 'DT'], dtype=object)"
      ]
     },
     "execution_count": 43,
     "metadata": {},
     "output_type": "execute_result"
    }
   ],
   "source": [
    "df[\"Type\"].unique()"
   ]
  },
  {
   "cell_type": "code",
   "execution_count": 47,
   "id": "a27b46b3",
   "metadata": {
    "hidden": true
   },
   "outputs": [
    {
     "data": {
      "text/html": [
       "<div>\n",
       "<style scoped>\n",
       "    .dataframe tbody tr th:only-of-type {\n",
       "        vertical-align: middle;\n",
       "    }\n",
       "\n",
       "    .dataframe tbody tr th {\n",
       "        vertical-align: top;\n",
       "    }\n",
       "\n",
       "    .dataframe thead th {\n",
       "        text-align: right;\n",
       "    }\n",
       "</style>\n",
       "<table border=\"1\" class=\"dataframe\">\n",
       "  <thead>\n",
       "    <tr style=\"text-align: right;\">\n",
       "      <th>City Group</th>\n",
       "      <th>Big Cities</th>\n",
       "      <th>Other</th>\n",
       "      <th>All</th>\n",
       "    </tr>\n",
       "    <tr>\n",
       "      <th>City</th>\n",
       "      <th></th>\n",
       "      <th></th>\n",
       "      <th></th>\n",
       "    </tr>\n",
       "  </thead>\n",
       "  <tbody>\n",
       "    <tr>\n",
       "      <th>Adana</th>\n",
       "      <td>0</td>\n",
       "      <td>3</td>\n",
       "      <td>3</td>\n",
       "    </tr>\n",
       "    <tr>\n",
       "      <th>Afyonkarahisar</th>\n",
       "      <td>0</td>\n",
       "      <td>1</td>\n",
       "      <td>1</td>\n",
       "    </tr>\n",
       "    <tr>\n",
       "      <th>Amasya</th>\n",
       "      <td>0</td>\n",
       "      <td>1</td>\n",
       "      <td>1</td>\n",
       "    </tr>\n",
       "    <tr>\n",
       "      <th>Ankara</th>\n",
       "      <td>19</td>\n",
       "      <td>0</td>\n",
       "      <td>19</td>\n",
       "    </tr>\n",
       "    <tr>\n",
       "      <th>Antalya</th>\n",
       "      <td>0</td>\n",
       "      <td>4</td>\n",
       "      <td>4</td>\n",
       "    </tr>\n",
       "    <tr>\n",
       "      <th>Aydın</th>\n",
       "      <td>0</td>\n",
       "      <td>2</td>\n",
       "      <td>2</td>\n",
       "    </tr>\n",
       "    <tr>\n",
       "      <th>Balıkesir</th>\n",
       "      <td>0</td>\n",
       "      <td>1</td>\n",
       "      <td>1</td>\n",
       "    </tr>\n",
       "    <tr>\n",
       "      <th>Bolu</th>\n",
       "      <td>0</td>\n",
       "      <td>1</td>\n",
       "      <td>1</td>\n",
       "    </tr>\n",
       "    <tr>\n",
       "      <th>Bursa</th>\n",
       "      <td>0</td>\n",
       "      <td>5</td>\n",
       "      <td>5</td>\n",
       "    </tr>\n",
       "    <tr>\n",
       "      <th>Denizli</th>\n",
       "      <td>0</td>\n",
       "      <td>1</td>\n",
       "      <td>1</td>\n",
       "    </tr>\n",
       "    <tr>\n",
       "      <th>Diyarbakır</th>\n",
       "      <td>0</td>\n",
       "      <td>3</td>\n",
       "      <td>3</td>\n",
       "    </tr>\n",
       "    <tr>\n",
       "      <th>Edirne</th>\n",
       "      <td>0</td>\n",
       "      <td>1</td>\n",
       "      <td>1</td>\n",
       "    </tr>\n",
       "    <tr>\n",
       "      <th>Elazığ</th>\n",
       "      <td>0</td>\n",
       "      <td>1</td>\n",
       "      <td>1</td>\n",
       "    </tr>\n",
       "    <tr>\n",
       "      <th>Eskişehir</th>\n",
       "      <td>0</td>\n",
       "      <td>3</td>\n",
       "      <td>3</td>\n",
       "    </tr>\n",
       "    <tr>\n",
       "      <th>Gaziantep</th>\n",
       "      <td>0</td>\n",
       "      <td>1</td>\n",
       "      <td>1</td>\n",
       "    </tr>\n",
       "    <tr>\n",
       "      <th>Isparta</th>\n",
       "      <td>0</td>\n",
       "      <td>1</td>\n",
       "      <td>1</td>\n",
       "    </tr>\n",
       "    <tr>\n",
       "      <th>Karabük</th>\n",
       "      <td>0</td>\n",
       "      <td>1</td>\n",
       "      <td>1</td>\n",
       "    </tr>\n",
       "    <tr>\n",
       "      <th>Kastamonu</th>\n",
       "      <td>0</td>\n",
       "      <td>1</td>\n",
       "      <td>1</td>\n",
       "    </tr>\n",
       "    <tr>\n",
       "      <th>Kayseri</th>\n",
       "      <td>0</td>\n",
       "      <td>3</td>\n",
       "      <td>3</td>\n",
       "    </tr>\n",
       "    <tr>\n",
       "      <th>Kocaeli</th>\n",
       "      <td>0</td>\n",
       "      <td>1</td>\n",
       "      <td>1</td>\n",
       "    </tr>\n",
       "    <tr>\n",
       "      <th>Konya</th>\n",
       "      <td>0</td>\n",
       "      <td>2</td>\n",
       "      <td>2</td>\n",
       "    </tr>\n",
       "    <tr>\n",
       "      <th>Kütahya</th>\n",
       "      <td>0</td>\n",
       "      <td>1</td>\n",
       "      <td>1</td>\n",
       "    </tr>\n",
       "    <tr>\n",
       "      <th>Kırklareli</th>\n",
       "      <td>0</td>\n",
       "      <td>1</td>\n",
       "      <td>1</td>\n",
       "    </tr>\n",
       "    <tr>\n",
       "      <th>Muğla</th>\n",
       "      <td>0</td>\n",
       "      <td>2</td>\n",
       "      <td>2</td>\n",
       "    </tr>\n",
       "    <tr>\n",
       "      <th>Osmaniye</th>\n",
       "      <td>0</td>\n",
       "      <td>1</td>\n",
       "      <td>1</td>\n",
       "    </tr>\n",
       "    <tr>\n",
       "      <th>Sakarya</th>\n",
       "      <td>0</td>\n",
       "      <td>4</td>\n",
       "      <td>4</td>\n",
       "    </tr>\n",
       "    <tr>\n",
       "      <th>Samsun</th>\n",
       "      <td>0</td>\n",
       "      <td>5</td>\n",
       "      <td>5</td>\n",
       "    </tr>\n",
       "    <tr>\n",
       "      <th>Tekirdağ</th>\n",
       "      <td>0</td>\n",
       "      <td>3</td>\n",
       "      <td>3</td>\n",
       "    </tr>\n",
       "    <tr>\n",
       "      <th>Tokat</th>\n",
       "      <td>0</td>\n",
       "      <td>1</td>\n",
       "      <td>1</td>\n",
       "    </tr>\n",
       "    <tr>\n",
       "      <th>Trabzon</th>\n",
       "      <td>0</td>\n",
       "      <td>2</td>\n",
       "      <td>2</td>\n",
       "    </tr>\n",
       "    <tr>\n",
       "      <th>Uşak</th>\n",
       "      <td>0</td>\n",
       "      <td>1</td>\n",
       "      <td>1</td>\n",
       "    </tr>\n",
       "    <tr>\n",
       "      <th>İstanbul</th>\n",
       "      <td>50</td>\n",
       "      <td>0</td>\n",
       "      <td>50</td>\n",
       "    </tr>\n",
       "    <tr>\n",
       "      <th>İzmir</th>\n",
       "      <td>9</td>\n",
       "      <td>0</td>\n",
       "      <td>9</td>\n",
       "    </tr>\n",
       "    <tr>\n",
       "      <th>Şanlıurfa</th>\n",
       "      <td>0</td>\n",
       "      <td>1</td>\n",
       "      <td>1</td>\n",
       "    </tr>\n",
       "    <tr>\n",
       "      <th>All</th>\n",
       "      <td>78</td>\n",
       "      <td>59</td>\n",
       "      <td>137</td>\n",
       "    </tr>\n",
       "  </tbody>\n",
       "</table>\n",
       "</div>"
      ],
      "text/plain": [
       "City Group      Big Cities  Other  All\n",
       "City                                  \n",
       "Adana                    0      3    3\n",
       "Afyonkarahisar           0      1    1\n",
       "Amasya                   0      1    1\n",
       "Ankara                  19      0   19\n",
       "Antalya                  0      4    4\n",
       "Aydın                    0      2    2\n",
       "Balıkesir                0      1    1\n",
       "Bolu                     0      1    1\n",
       "Bursa                    0      5    5\n",
       "Denizli                  0      1    1\n",
       "Diyarbakır               0      3    3\n",
       "Edirne                   0      1    1\n",
       "Elazığ                   0      1    1\n",
       "Eskişehir                0      3    3\n",
       "Gaziantep                0      1    1\n",
       "Isparta                  0      1    1\n",
       "Karabük                  0      1    1\n",
       "Kastamonu                0      1    1\n",
       "Kayseri                  0      3    3\n",
       "Kocaeli                  0      1    1\n",
       "Konya                    0      2    2\n",
       "Kütahya                  0      1    1\n",
       "Kırklareli               0      1    1\n",
       "Muğla                    0      2    2\n",
       "Osmaniye                 0      1    1\n",
       "Sakarya                  0      4    4\n",
       "Samsun                   0      5    5\n",
       "Tekirdağ                 0      3    3\n",
       "Tokat                    0      1    1\n",
       "Trabzon                  0      2    2\n",
       "Uşak                     0      1    1\n",
       "İstanbul                50      0   50\n",
       "İzmir                    9      0    9\n",
       "Şanlıurfa                0      1    1\n",
       "All                     78     59  137"
      ]
     },
     "execution_count": 47,
     "metadata": {},
     "output_type": "execute_result"
    }
   ],
   "source": [
    "pd.crosstab(df[\"City\"], df[\"City Group\"], margins = True)"
   ]
  },
  {
   "cell_type": "markdown",
   "id": "9899bc6b",
   "metadata": {
    "hidden": true
   },
   "source": [
    "- each \"City\" is either classified as \"Big Cities\" or \"Other\". i,e. There is a heirarchy of variables among 'City Type'(parent) and 'City'(Child) "
   ]
  },
  {
   "cell_type": "code",
   "execution_count": 49,
   "id": "5da9c595",
   "metadata": {
    "hidden": true
   },
   "outputs": [
    {
     "data": {
      "text/html": [
       "<div>\n",
       "<style scoped>\n",
       "    .dataframe tbody tr th:only-of-type {\n",
       "        vertical-align: middle;\n",
       "    }\n",
       "\n",
       "    .dataframe tbody tr th {\n",
       "        vertical-align: top;\n",
       "    }\n",
       "\n",
       "    .dataframe thead th {\n",
       "        text-align: right;\n",
       "    }\n",
       "</style>\n",
       "<table border=\"1\" class=\"dataframe\">\n",
       "  <thead>\n",
       "    <tr style=\"text-align: right;\">\n",
       "      <th>City Group</th>\n",
       "      <th>Big Cities</th>\n",
       "      <th>Other</th>\n",
       "      <th>All</th>\n",
       "    </tr>\n",
       "    <tr>\n",
       "      <th>Type</th>\n",
       "      <th></th>\n",
       "      <th></th>\n",
       "      <th></th>\n",
       "    </tr>\n",
       "  </thead>\n",
       "  <tbody>\n",
       "    <tr>\n",
       "      <th>DT</th>\n",
       "      <td>1</td>\n",
       "      <td>0</td>\n",
       "      <td>1</td>\n",
       "    </tr>\n",
       "    <tr>\n",
       "      <th>FC</th>\n",
       "      <td>39</td>\n",
       "      <td>37</td>\n",
       "      <td>76</td>\n",
       "    </tr>\n",
       "    <tr>\n",
       "      <th>IL</th>\n",
       "      <td>38</td>\n",
       "      <td>22</td>\n",
       "      <td>60</td>\n",
       "    </tr>\n",
       "    <tr>\n",
       "      <th>All</th>\n",
       "      <td>78</td>\n",
       "      <td>59</td>\n",
       "      <td>137</td>\n",
       "    </tr>\n",
       "  </tbody>\n",
       "</table>\n",
       "</div>"
      ],
      "text/plain": [
       "City Group  Big Cities  Other  All\n",
       "Type                              \n",
       "DT                   1      0    1\n",
       "FC                  39     37   76\n",
       "IL                  38     22   60\n",
       "All                 78     59  137"
      ]
     },
     "execution_count": 49,
     "metadata": {},
     "output_type": "execute_result"
    }
   ],
   "source": [
    "pd.crosstab(df[\"Type\"], df[\"City Group\"], margins = True)"
   ]
  },
  {
   "cell_type": "markdown",
   "id": "45a14db7",
   "metadata": {
    "hidden": true
   },
   "source": [
    "- Only one ocurrence of the category 'DT' in categorical variable \n",
    "- No apparent relation among the variable 'City Group' and 'Type'.\n",
    "- It seems variable 'Type' is related to particular store rather than it's 'City Group'"
   ]
  },
  {
   "cell_type": "code",
   "execution_count": 52,
   "id": "94365625",
   "metadata": {
    "hidden": true
   },
   "outputs": [
    {
     "data": {
      "text/html": [
       "<div>\n",
       "<style scoped>\n",
       "    .dataframe tbody tr th:only-of-type {\n",
       "        vertical-align: middle;\n",
       "    }\n",
       "\n",
       "    .dataframe tbody tr th {\n",
       "        vertical-align: top;\n",
       "    }\n",
       "\n",
       "    .dataframe thead th {\n",
       "        text-align: right;\n",
       "    }\n",
       "</style>\n",
       "<table border=\"1\" class=\"dataframe\">\n",
       "  <thead>\n",
       "    <tr style=\"text-align: right;\">\n",
       "      <th>Type</th>\n",
       "      <th>DT</th>\n",
       "      <th>FC</th>\n",
       "      <th>IL</th>\n",
       "      <th>All</th>\n",
       "    </tr>\n",
       "    <tr>\n",
       "      <th>City</th>\n",
       "      <th></th>\n",
       "      <th></th>\n",
       "      <th></th>\n",
       "      <th></th>\n",
       "    </tr>\n",
       "  </thead>\n",
       "  <tbody>\n",
       "    <tr>\n",
       "      <th>Adana</th>\n",
       "      <td>0</td>\n",
       "      <td>0</td>\n",
       "      <td>3</td>\n",
       "      <td>3</td>\n",
       "    </tr>\n",
       "    <tr>\n",
       "      <th>Afyonkarahisar</th>\n",
       "      <td>0</td>\n",
       "      <td>0</td>\n",
       "      <td>1</td>\n",
       "      <td>1</td>\n",
       "    </tr>\n",
       "    <tr>\n",
       "      <th>Amasya</th>\n",
       "      <td>0</td>\n",
       "      <td>0</td>\n",
       "      <td>1</td>\n",
       "      <td>1</td>\n",
       "    </tr>\n",
       "    <tr>\n",
       "      <th>Ankara</th>\n",
       "      <td>1</td>\n",
       "      <td>10</td>\n",
       "      <td>8</td>\n",
       "      <td>19</td>\n",
       "    </tr>\n",
       "    <tr>\n",
       "      <th>Antalya</th>\n",
       "      <td>0</td>\n",
       "      <td>4</td>\n",
       "      <td>0</td>\n",
       "      <td>4</td>\n",
       "    </tr>\n",
       "    <tr>\n",
       "      <th>Aydın</th>\n",
       "      <td>0</td>\n",
       "      <td>2</td>\n",
       "      <td>0</td>\n",
       "      <td>2</td>\n",
       "    </tr>\n",
       "    <tr>\n",
       "      <th>Balıkesir</th>\n",
       "      <td>0</td>\n",
       "      <td>0</td>\n",
       "      <td>1</td>\n",
       "      <td>1</td>\n",
       "    </tr>\n",
       "    <tr>\n",
       "      <th>Bolu</th>\n",
       "      <td>0</td>\n",
       "      <td>1</td>\n",
       "      <td>0</td>\n",
       "      <td>1</td>\n",
       "    </tr>\n",
       "    <tr>\n",
       "      <th>Bursa</th>\n",
       "      <td>0</td>\n",
       "      <td>4</td>\n",
       "      <td>1</td>\n",
       "      <td>5</td>\n",
       "    </tr>\n",
       "    <tr>\n",
       "      <th>Denizli</th>\n",
       "      <td>0</td>\n",
       "      <td>1</td>\n",
       "      <td>0</td>\n",
       "      <td>1</td>\n",
       "    </tr>\n",
       "    <tr>\n",
       "      <th>Diyarbakır</th>\n",
       "      <td>0</td>\n",
       "      <td>2</td>\n",
       "      <td>1</td>\n",
       "      <td>3</td>\n",
       "    </tr>\n",
       "    <tr>\n",
       "      <th>Edirne</th>\n",
       "      <td>0</td>\n",
       "      <td>0</td>\n",
       "      <td>1</td>\n",
       "      <td>1</td>\n",
       "    </tr>\n",
       "    <tr>\n",
       "      <th>Elazığ</th>\n",
       "      <td>0</td>\n",
       "      <td>0</td>\n",
       "      <td>1</td>\n",
       "      <td>1</td>\n",
       "    </tr>\n",
       "    <tr>\n",
       "      <th>Eskişehir</th>\n",
       "      <td>0</td>\n",
       "      <td>2</td>\n",
       "      <td>1</td>\n",
       "      <td>3</td>\n",
       "    </tr>\n",
       "    <tr>\n",
       "      <th>Gaziantep</th>\n",
       "      <td>0</td>\n",
       "      <td>0</td>\n",
       "      <td>1</td>\n",
       "      <td>1</td>\n",
       "    </tr>\n",
       "    <tr>\n",
       "      <th>Isparta</th>\n",
       "      <td>0</td>\n",
       "      <td>0</td>\n",
       "      <td>1</td>\n",
       "      <td>1</td>\n",
       "    </tr>\n",
       "    <tr>\n",
       "      <th>Karabük</th>\n",
       "      <td>0</td>\n",
       "      <td>1</td>\n",
       "      <td>0</td>\n",
       "      <td>1</td>\n",
       "    </tr>\n",
       "    <tr>\n",
       "      <th>Kastamonu</th>\n",
       "      <td>0</td>\n",
       "      <td>0</td>\n",
       "      <td>1</td>\n",
       "      <td>1</td>\n",
       "    </tr>\n",
       "    <tr>\n",
       "      <th>Kayseri</th>\n",
       "      <td>0</td>\n",
       "      <td>3</td>\n",
       "      <td>0</td>\n",
       "      <td>3</td>\n",
       "    </tr>\n",
       "    <tr>\n",
       "      <th>Kocaeli</th>\n",
       "      <td>0</td>\n",
       "      <td>1</td>\n",
       "      <td>0</td>\n",
       "      <td>1</td>\n",
       "    </tr>\n",
       "    <tr>\n",
       "      <th>Konya</th>\n",
       "      <td>0</td>\n",
       "      <td>1</td>\n",
       "      <td>1</td>\n",
       "      <td>2</td>\n",
       "    </tr>\n",
       "    <tr>\n",
       "      <th>Kütahya</th>\n",
       "      <td>0</td>\n",
       "      <td>1</td>\n",
       "      <td>0</td>\n",
       "      <td>1</td>\n",
       "    </tr>\n",
       "    <tr>\n",
       "      <th>Kırklareli</th>\n",
       "      <td>0</td>\n",
       "      <td>1</td>\n",
       "      <td>0</td>\n",
       "      <td>1</td>\n",
       "    </tr>\n",
       "    <tr>\n",
       "      <th>Muğla</th>\n",
       "      <td>0</td>\n",
       "      <td>1</td>\n",
       "      <td>1</td>\n",
       "      <td>2</td>\n",
       "    </tr>\n",
       "    <tr>\n",
       "      <th>Osmaniye</th>\n",
       "      <td>0</td>\n",
       "      <td>1</td>\n",
       "      <td>0</td>\n",
       "      <td>1</td>\n",
       "    </tr>\n",
       "    <tr>\n",
       "      <th>Sakarya</th>\n",
       "      <td>0</td>\n",
       "      <td>2</td>\n",
       "      <td>2</td>\n",
       "      <td>4</td>\n",
       "    </tr>\n",
       "    <tr>\n",
       "      <th>Samsun</th>\n",
       "      <td>0</td>\n",
       "      <td>4</td>\n",
       "      <td>1</td>\n",
       "      <td>5</td>\n",
       "    </tr>\n",
       "    <tr>\n",
       "      <th>Tekirdağ</th>\n",
       "      <td>0</td>\n",
       "      <td>2</td>\n",
       "      <td>1</td>\n",
       "      <td>3</td>\n",
       "    </tr>\n",
       "    <tr>\n",
       "      <th>Tokat</th>\n",
       "      <td>0</td>\n",
       "      <td>0</td>\n",
       "      <td>1</td>\n",
       "      <td>1</td>\n",
       "    </tr>\n",
       "    <tr>\n",
       "      <th>Trabzon</th>\n",
       "      <td>0</td>\n",
       "      <td>1</td>\n",
       "      <td>1</td>\n",
       "      <td>2</td>\n",
       "    </tr>\n",
       "    <tr>\n",
       "      <th>Uşak</th>\n",
       "      <td>0</td>\n",
       "      <td>1</td>\n",
       "      <td>0</td>\n",
       "      <td>1</td>\n",
       "    </tr>\n",
       "    <tr>\n",
       "      <th>İstanbul</th>\n",
       "      <td>0</td>\n",
       "      <td>25</td>\n",
       "      <td>25</td>\n",
       "      <td>50</td>\n",
       "    </tr>\n",
       "    <tr>\n",
       "      <th>İzmir</th>\n",
       "      <td>0</td>\n",
       "      <td>4</td>\n",
       "      <td>5</td>\n",
       "      <td>9</td>\n",
       "    </tr>\n",
       "    <tr>\n",
       "      <th>Şanlıurfa</th>\n",
       "      <td>0</td>\n",
       "      <td>1</td>\n",
       "      <td>0</td>\n",
       "      <td>1</td>\n",
       "    </tr>\n",
       "    <tr>\n",
       "      <th>All</th>\n",
       "      <td>1</td>\n",
       "      <td>76</td>\n",
       "      <td>60</td>\n",
       "      <td>137</td>\n",
       "    </tr>\n",
       "  </tbody>\n",
       "</table>\n",
       "</div>"
      ],
      "text/plain": [
       "Type            DT  FC  IL  All\n",
       "City                           \n",
       "Adana            0   0   3    3\n",
       "Afyonkarahisar   0   0   1    1\n",
       "Amasya           0   0   1    1\n",
       "Ankara           1  10   8   19\n",
       "Antalya          0   4   0    4\n",
       "Aydın            0   2   0    2\n",
       "Balıkesir        0   0   1    1\n",
       "Bolu             0   1   0    1\n",
       "Bursa            0   4   1    5\n",
       "Denizli          0   1   0    1\n",
       "Diyarbakır       0   2   1    3\n",
       "Edirne           0   0   1    1\n",
       "Elazığ           0   0   1    1\n",
       "Eskişehir        0   2   1    3\n",
       "Gaziantep        0   0   1    1\n",
       "Isparta          0   0   1    1\n",
       "Karabük          0   1   0    1\n",
       "Kastamonu        0   0   1    1\n",
       "Kayseri          0   3   0    3\n",
       "Kocaeli          0   1   0    1\n",
       "Konya            0   1   1    2\n",
       "Kütahya          0   1   0    1\n",
       "Kırklareli       0   1   0    1\n",
       "Muğla            0   1   1    2\n",
       "Osmaniye         0   1   0    1\n",
       "Sakarya          0   2   2    4\n",
       "Samsun           0   4   1    5\n",
       "Tekirdağ         0   2   1    3\n",
       "Tokat            0   0   1    1\n",
       "Trabzon          0   1   1    2\n",
       "Uşak             0   1   0    1\n",
       "İstanbul         0  25  25   50\n",
       "İzmir            0   4   5    9\n",
       "Şanlıurfa        0   1   0    1\n",
       "All              1  76  60  137"
      ]
     },
     "execution_count": 52,
     "metadata": {},
     "output_type": "execute_result"
    }
   ],
   "source": [
    "pd.crosstab(df[\"City\"], df[\"Type\"], margins = True)"
   ]
  },
  {
   "cell_type": "markdown",
   "id": "2d09b979",
   "metadata": {
    "hidden": true
   },
   "source": [
    "- No apparent relation among the variable 'City' and 'Type'.\n",
    "- It seems variable 'Type' is related to particular store rather than it's 'City'"
   ]
  },
  {
   "cell_type": "markdown",
   "id": "b3ec3020",
   "metadata": {
    "heading_collapsed": true,
    "hidden": true
   },
   "source": [
    "## Preprocssing"
   ]
  },
  {
   "cell_type": "markdown",
   "id": "ed80e4c2",
   "metadata": {
    "hidden": true
   },
   "source": [
    "- Some algorithms like linear regression expect categorical variables to be one hot vectorized\n",
    "- so creating seperate dataframe with categorical variables in one hot vectorized format"
   ]
  },
  {
   "cell_type": "code",
   "execution_count": 102,
   "id": "c90f9812",
   "metadata": {
    "hidden": true
   },
   "outputs": [],
   "source": [
    "from sklearn.preprocessing import OneHotEncoder\n",
    "ohe = OneHotEncoder()\n",
    "ohe.fit(df[[\"City\",\"City Group\", \"Type\"]])\n",
    "temp_columns = []\n",
    "for i in ohe.categories_:\n",
    "    temp_columns += list(i)"
   ]
  },
  {
   "cell_type": "code",
   "execution_count": 103,
   "id": "dd810e7e",
   "metadata": {
    "hidden": true
   },
   "outputs": [],
   "source": [
    "temp = pd.DataFrame(ohe.transform(df[[\"City\",\"City Group\", \"Type\"]]).toarray(), columns = temp_columns, index = df[\"City\"].index)"
   ]
  },
  {
   "cell_type": "code",
   "execution_count": 104,
   "id": "a978746d",
   "metadata": {
    "hidden": true
   },
   "outputs": [],
   "source": [
    "df_1 = df.drop(labels = [\"City\",\"City Group\", \"Type\"], axis = 1)"
   ]
  },
  {
   "cell_type": "code",
   "execution_count": 106,
   "id": "2a329ddc",
   "metadata": {
    "hidden": true
   },
   "outputs": [],
   "source": [
    "df_1 = pd.concat([temp, df_1], axis = 1)"
   ]
  },
  {
   "cell_type": "code",
   "execution_count": 109,
   "id": "f11eaa5d",
   "metadata": {
    "hidden": true
   },
   "outputs": [],
   "source": [
    "df_1 = df_1.drop(labels = [\"DT\", \"Other\"], axis = 1)#as they add redundent infotmation "
   ]
  },
  {
   "cell_type": "code",
   "execution_count": 111,
   "id": "2c1db1ff",
   "metadata": {
    "hidden": true
   },
   "outputs": [],
   "source": [
    "df_1[\"City Group - Big Cities\"],df_1[\"Type - FC\"], df_1[\"Type - IL\"]= df_1[\"Big Cities\"], df_1[\"FC\"], df_1[\"IL\"] "
   ]
  },
  {
   "cell_type": "code",
   "execution_count": 112,
   "id": "4982f086",
   "metadata": {
    "hidden": true
   },
   "outputs": [],
   "source": [
    "df_1 = df_1.drop(labels = [\"Big Cities\", \"FC\", \"IL\"], axis = 1)"
   ]
  },
  {
   "cell_type": "code",
   "execution_count": 114,
   "id": "5f51c256",
   "metadata": {
    "hidden": true
   },
   "outputs": [
    {
     "data": {
      "text/plain": [
       "Index(['Adana', 'Afyonkarahisar', 'Amasya', 'Ankara', 'Antalya', 'Aydın',\n",
       "       'Balıkesir', 'Bolu', 'Bursa', 'Denizli', 'Diyarbakır', 'Edirne',\n",
       "       'Elazığ', 'Eskişehir', 'Gaziantep', 'Isparta', 'Karabük', 'Kastamonu',\n",
       "       'Kayseri', 'Kocaeli', 'Konya', 'Kütahya', 'Kırklareli', 'Muğla',\n",
       "       'Osmaniye', 'Sakarya', 'Samsun', 'Tekirdağ', 'Tokat', 'Trabzon', 'Uşak',\n",
       "       'İstanbul', 'İzmir', 'Şanlıurfa', 'P1', 'P2', 'P3', 'P4', 'P5', 'P6',\n",
       "       'P7', 'P8', 'P9', 'P10', 'P11', 'P12', 'P13', 'P14', 'P15', 'P16',\n",
       "       'P17', 'P18', 'P19', 'P20', 'P21', 'P22', 'P23', 'P24', 'P25', 'P26',\n",
       "       'P27', 'P28', 'P29', 'P30', 'P31', 'P32', 'P33', 'P34', 'P35', 'P36',\n",
       "       'P37', 'revenue', 'Open Year', 'City Group - Big Cities', 'Type - FC',\n",
       "       'Type - IL'],\n",
       "      dtype='object')"
      ]
     },
     "execution_count": 114,
     "metadata": {},
     "output_type": "execute_result"
    }
   ],
   "source": [
    "df_1.columns"
   ]
  },
  {
   "cell_type": "markdown",
   "id": "e271ae97",
   "metadata": {
    "heading_collapsed": true,
    "hidden": true
   },
   "source": [
    "## Handling Missing values"
   ]
  },
  {
   "cell_type": "code",
   "execution_count": 17,
   "id": "4963f6eb",
   "metadata": {
    "hidden": true
   },
   "outputs": [
    {
     "data": {
      "text/plain": [
       "Open Date     0\n",
       "City          0\n",
       "City Group    0\n",
       "Type          0\n",
       "P1            0\n",
       "P2            0\n",
       "P3            0\n",
       "P4            0\n",
       "P5            0\n",
       "P6            4\n",
       "P7            4\n",
       "P8            0\n",
       "P9            0\n",
       "P10           0\n",
       "P11           0\n",
       "P12           0\n",
       "P13           0\n",
       "P14           0\n",
       "P15           0\n",
       "P16           0\n",
       "P17           0\n",
       "P18           0\n",
       "P19           0\n",
       "P20           0\n",
       "P21           0\n",
       "P22           0\n",
       "P23           0\n",
       "P24           0\n",
       "P25           0\n",
       "P26           0\n",
       "P27           0\n",
       "P28           0\n",
       "P29           0\n",
       "P30           0\n",
       "P31           0\n",
       "P32           0\n",
       "P33           0\n",
       "P34           0\n",
       "P35           0\n",
       "P36           0\n",
       "P37           0\n",
       "revenue       0\n",
       "dtype: int64"
      ]
     },
     "execution_count": 17,
     "metadata": {},
     "output_type": "execute_result"
    }
   ],
   "source": [
    "df.isnull().sum()"
   ]
  },
  {
   "cell_type": "code",
   "execution_count": 53,
   "id": "49ba18ea",
   "metadata": {
    "hidden": true
   },
   "outputs": [
    {
     "data": {
      "text/plain": [
       "Id\n",
       "15   NaN\n",
       "32   NaN\n",
       "57   NaN\n",
       "86   NaN\n",
       "Name: P6, dtype: float64"
      ]
     },
     "execution_count": 53,
     "metadata": {},
     "output_type": "execute_result"
    }
   ],
   "source": [
    "df[\"P6\"][df[\"P6\"].isnull()]"
   ]
  },
  {
   "cell_type": "code",
   "execution_count": 54,
   "id": "bcf41579",
   "metadata": {
    "hidden": true
   },
   "outputs": [
    {
     "data": {
      "text/plain": [
       "Id\n",
       "20   NaN\n",
       "42   NaN\n",
       "82   NaN\n",
       "86   NaN\n",
       "Name: P7, dtype: float64"
      ]
     },
     "execution_count": 54,
     "metadata": {},
     "output_type": "execute_result"
    }
   ],
   "source": [
    "df[\"P7\"][df[\"P7\"].isnull()]"
   ]
  },
  {
   "cell_type": "code",
   "execution_count": 55,
   "id": "1f082eee",
   "metadata": {
    "hidden": true
   },
   "outputs": [
    {
     "data": {
      "text/plain": [
       "(137, 42)"
      ]
     },
     "execution_count": 55,
     "metadata": {},
     "output_type": "execute_result"
    }
   ],
   "source": [
    "df.shape"
   ]
  },
  {
   "cell_type": "markdown",
   "id": "0b73e74b",
   "metadata": {
    "hidden": true
   },
   "source": [
    "- Only 8 missing values in a 137* 42 grid of data.\n",
    "- With data samples being limited one can't take the risk of dropping entries with missing data.\n",
    "- one way to deal with this is to use pd.fillna() method of pandas package to impute mean of the column, but it too can lead to a information loss.\n",
    "- better option would be to train a simple ML model using other row entries, where values with missing columns would be target column and rest of the columns would be used as features."
   ]
  },
  {
   "cell_type": "markdown",
   "id": "b582ceac",
   "metadata": {
    "heading_collapsed": true,
    "hidden": true
   },
   "source": [
    "### Training model with target column as \"P6\" for imputing 4 missing entries"
   ]
  },
  {
   "cell_type": "markdown",
   "id": "d5cb4298",
   "metadata": {
    "heading_collapsed": true,
    "hidden": true
   },
   "source": [
    "#### splitting data in train and test dataset"
   ]
  },
  {
   "cell_type": "code",
   "execution_count": null,
   "id": "e223cab9",
   "metadata": {
    "hidden": true
   },
   "outputs": [],
   "source": []
  },
  {
   "cell_type": "code",
   "execution_count": 115,
   "id": "83da5f51",
   "metadata": {
    "hidden": true
   },
   "outputs": [],
   "source": [
    "train_impute = df_1.drop(labels = [15, 32, 57, 86, 20, 42, 82]) #[15, 32, 57, 86, 20, 42, 82] are the ids of the rows with missing data"
   ]
  },
  {
   "cell_type": "code",
   "execution_count": 116,
   "id": "d107dfa3",
   "metadata": {
    "hidden": true
   },
   "outputs": [
    {
     "data": {
      "text/plain": [
       "(130, 76)"
      ]
     },
     "execution_count": 116,
     "metadata": {},
     "output_type": "execute_result"
    }
   ],
   "source": [
    "train_impute.shape"
   ]
  },
  {
   "cell_type": "code",
   "execution_count": 117,
   "id": "e47896e5",
   "metadata": {
    "hidden": true
   },
   "outputs": [
    {
     "data": {
      "text/html": [
       "<div>\n",
       "<style scoped>\n",
       "    .dataframe tbody tr th:only-of-type {\n",
       "        vertical-align: middle;\n",
       "    }\n",
       "\n",
       "    .dataframe tbody tr th {\n",
       "        vertical-align: top;\n",
       "    }\n",
       "\n",
       "    .dataframe thead th {\n",
       "        text-align: right;\n",
       "    }\n",
       "</style>\n",
       "<table border=\"1\" class=\"dataframe\">\n",
       "  <thead>\n",
       "    <tr style=\"text-align: right;\">\n",
       "      <th></th>\n",
       "      <th>Adana</th>\n",
       "      <th>Afyonkarahisar</th>\n",
       "      <th>Amasya</th>\n",
       "      <th>Ankara</th>\n",
       "      <th>Antalya</th>\n",
       "      <th>Aydın</th>\n",
       "      <th>Balıkesir</th>\n",
       "      <th>Bolu</th>\n",
       "      <th>Bursa</th>\n",
       "      <th>Denizli</th>\n",
       "      <th>...</th>\n",
       "      <th>P33</th>\n",
       "      <th>P34</th>\n",
       "      <th>P35</th>\n",
       "      <th>P36</th>\n",
       "      <th>P37</th>\n",
       "      <th>revenue</th>\n",
       "      <th>Open Year</th>\n",
       "      <th>City Group - Big Cities</th>\n",
       "      <th>Type - FC</th>\n",
       "      <th>Type - IL</th>\n",
       "    </tr>\n",
       "    <tr>\n",
       "      <th>Id</th>\n",
       "      <th></th>\n",
       "      <th></th>\n",
       "      <th></th>\n",
       "      <th></th>\n",
       "      <th></th>\n",
       "      <th></th>\n",
       "      <th></th>\n",
       "      <th></th>\n",
       "      <th></th>\n",
       "      <th></th>\n",
       "      <th></th>\n",
       "      <th></th>\n",
       "      <th></th>\n",
       "      <th></th>\n",
       "      <th></th>\n",
       "      <th></th>\n",
       "      <th></th>\n",
       "      <th></th>\n",
       "      <th></th>\n",
       "      <th></th>\n",
       "      <th></th>\n",
       "    </tr>\n",
       "  </thead>\n",
       "  <tbody>\n",
       "    <tr>\n",
       "      <th>0</th>\n",
       "      <td>0.0</td>\n",
       "      <td>0.0</td>\n",
       "      <td>0.0</td>\n",
       "      <td>0.0</td>\n",
       "      <td>0.0</td>\n",
       "      <td>0.0</td>\n",
       "      <td>0.0</td>\n",
       "      <td>0.0</td>\n",
       "      <td>0.0</td>\n",
       "      <td>0.0</td>\n",
       "      <td>...</td>\n",
       "      <td>5</td>\n",
       "      <td>5</td>\n",
       "      <td>4</td>\n",
       "      <td>3</td>\n",
       "      <td>4</td>\n",
       "      <td>5653753</td>\n",
       "      <td>1999</td>\n",
       "      <td>1.0</td>\n",
       "      <td>0.0</td>\n",
       "      <td>1.0</td>\n",
       "    </tr>\n",
       "    <tr>\n",
       "      <th>1</th>\n",
       "      <td>0.0</td>\n",
       "      <td>0.0</td>\n",
       "      <td>0.0</td>\n",
       "      <td>1.0</td>\n",
       "      <td>0.0</td>\n",
       "      <td>0.0</td>\n",
       "      <td>0.0</td>\n",
       "      <td>0.0</td>\n",
       "      <td>0.0</td>\n",
       "      <td>0.0</td>\n",
       "      <td>...</td>\n",
       "      <td>0</td>\n",
       "      <td>0</td>\n",
       "      <td>0</td>\n",
       "      <td>0</td>\n",
       "      <td>0</td>\n",
       "      <td>6923131</td>\n",
       "      <td>2008</td>\n",
       "      <td>1.0</td>\n",
       "      <td>1.0</td>\n",
       "      <td>0.0</td>\n",
       "    </tr>\n",
       "  </tbody>\n",
       "</table>\n",
       "<p>2 rows × 76 columns</p>\n",
       "</div>"
      ],
      "text/plain": [
       "    Adana  Afyonkarahisar  Amasya  Ankara  Antalya  Aydın  Balıkesir  Bolu  \\\n",
       "Id                                                                           \n",
       "0     0.0             0.0     0.0     0.0      0.0    0.0        0.0   0.0   \n",
       "1     0.0             0.0     0.0     1.0      0.0    0.0        0.0   0.0   \n",
       "\n",
       "    Bursa  Denizli  ...  P33  P34  P35  P36  P37  revenue  Open Year  \\\n",
       "Id                  ...                                                \n",
       "0     0.0      0.0  ...    5    5    4    3    4  5653753       1999   \n",
       "1     0.0      0.0  ...    0    0    0    0    0  6923131       2008   \n",
       "\n",
       "    City Group - Big Cities  Type - FC  Type - IL  \n",
       "Id                                                 \n",
       "0                       1.0        0.0        1.0  \n",
       "1                       1.0        1.0        0.0  \n",
       "\n",
       "[2 rows x 76 columns]"
      ]
     },
     "execution_count": 117,
     "metadata": {},
     "output_type": "execute_result"
    }
   ],
   "source": [
    "train_impute.head(2)"
   ]
  },
  {
   "cell_type": "code",
   "execution_count": 142,
   "id": "e2f854ef",
   "metadata": {
    "hidden": true
   },
   "outputs": [],
   "source": [
    "test_impute_1 = df_1.loc[[15, 32, 57, 86], :].copy() ## rows with missing values for column \"P6\", the rows we want to impute missing data"
   ]
  },
  {
   "cell_type": "code",
   "execution_count": 143,
   "id": "2d10e584",
   "metadata": {
    "hidden": true
   },
   "outputs": [
    {
     "data": {
      "text/plain": [
       "(4, 76)"
      ]
     },
     "execution_count": 143,
     "metadata": {},
     "output_type": "execute_result"
    }
   ],
   "source": [
    "test_impute_1.shape"
   ]
  },
  {
   "cell_type": "code",
   "execution_count": 144,
   "id": "3d75a890",
   "metadata": {
    "hidden": true
   },
   "outputs": [
    {
     "data": {
      "text/plain": [
       "Id\n",
       "15   NaN\n",
       "32   NaN\n",
       "57   NaN\n",
       "86   NaN\n",
       "Name: P6, dtype: float64"
      ]
     },
     "execution_count": 144,
     "metadata": {},
     "output_type": "execute_result"
    }
   ],
   "source": [
    "test_impute_1[\"P6\"]"
   ]
  },
  {
   "cell_type": "markdown",
   "id": "3935402b",
   "metadata": {
    "heading_collapsed": true,
    "hidden": true
   },
   "source": [
    "#### Splitting data into target and features"
   ]
  },
  {
   "cell_type": "code",
   "execution_count": 122,
   "id": "6dd359fb",
   "metadata": {
    "hidden": true
   },
   "outputs": [],
   "source": [
    "X_train_impute_1 = train_impute.drop(labels = \"P6\", axis = 1)\n",
    "Y_train_impute_1 = train_impute[\"P6\"]\n",
    "X_test_impute_1 = test_impute_1.drop(labels = \"P6\", axis = 1)"
   ]
  },
  {
   "cell_type": "code",
   "execution_count": 123,
   "id": "adf11ced",
   "metadata": {
    "hidden": true
   },
   "outputs": [
    {
     "data": {
      "text/plain": [
       "(130, 75)"
      ]
     },
     "execution_count": 123,
     "metadata": {},
     "output_type": "execute_result"
    }
   ],
   "source": [
    "X_train_impute_1.shape"
   ]
  },
  {
   "cell_type": "code",
   "execution_count": 124,
   "id": "91fe7a46",
   "metadata": {
    "hidden": true
   },
   "outputs": [
    {
     "data": {
      "text/plain": [
       "(130,)"
      ]
     },
     "execution_count": 124,
     "metadata": {},
     "output_type": "execute_result"
    }
   ],
   "source": [
    "Y_train_impute_1.shape"
   ]
  },
  {
   "cell_type": "code",
   "execution_count": 125,
   "id": "e7fbbdec",
   "metadata": {
    "hidden": true
   },
   "outputs": [
    {
     "data": {
      "text/plain": [
       "(4, 75)"
      ]
     },
     "execution_count": 125,
     "metadata": {},
     "output_type": "execute_result"
    }
   ],
   "source": [
    "X_test_impute_1.shape"
   ]
  },
  {
   "cell_type": "markdown",
   "id": "ea4698ea",
   "metadata": {
    "heading_collapsed": true,
    "hidden": true
   },
   "source": [
    "#### Training Linear Regression model"
   ]
  },
  {
   "cell_type": "code",
   "execution_count": 126,
   "id": "fcd03a55",
   "metadata": {
    "hidden": true
   },
   "outputs": [
    {
     "data": {
      "text/plain": [
       "LinearRegression()"
      ]
     },
     "execution_count": 126,
     "metadata": {},
     "output_type": "execute_result"
    }
   ],
   "source": [
    "from sklearn.linear_model import LinearRegression\n",
    "model_impute_1 = LinearRegression(fit_intercept = True)\n",
    "model_impute_1.fit(X_train_impute_1, Y_train_impute_1)"
   ]
  },
  {
   "cell_type": "code",
   "execution_count": 132,
   "id": "a934d9dd",
   "metadata": {
    "hidden": true
   },
   "outputs": [
    {
     "name": "stderr",
     "output_type": "stream",
     "text": [
      "<ipython-input-132-1101f858eb5b>:1: SettingWithCopyWarning: \n",
      "A value is trying to be set on a copy of a slice from a DataFrame\n",
      "\n",
      "See the caveats in the documentation: https://pandas.pydata.org/pandas-docs/stable/user_guide/indexing.html#returning-a-view-versus-a-copy\n",
      "  X_test_impute_1[\"P7\"][86] = X_train_impute_1[\"P7\"].mean()\n"
     ]
    }
   ],
   "source": [
    "X_test_impute_1[\"P7\"][86] = X_train_impute_1[\"P7\"].mean()"
   ]
  },
  {
   "cell_type": "code",
   "execution_count": 138,
   "id": "72f9826a",
   "metadata": {
    "hidden": true
   },
   "outputs": [
    {
     "data": {
      "text/plain": [
       "array([ 1.33747125e+01, -4.82190595e+06,  3.01437818e+00,  1.24723446e+00])"
      ]
     },
     "execution_count": 138,
     "metadata": {},
     "output_type": "execute_result"
    }
   ],
   "source": [
    "model_impute_1.predict(X_test_impute_1)"
   ]
  },
  {
   "cell_type": "markdown",
   "id": "c45df4b7",
   "metadata": {
    "hidden": true
   },
   "source": [
    "- particular model is giving very high values, all those numerical columns must contain redundent information and high multi-collinearity, that's why it is overfitting\n"
   ]
  },
  {
   "cell_type": "markdown",
   "id": "bdc04d36",
   "metadata": {
    "heading_collapsed": true,
    "hidden": true
   },
   "source": [
    "### Training model with target column as \"P7\" for imputing 4 missing entries"
   ]
  },
  {
   "cell_type": "markdown",
   "id": "a0f6ee27",
   "metadata": {
    "heading_collapsed": true,
    "hidden": true
   },
   "source": [
    "#### splitting data in train and test dataset"
   ]
  },
  {
   "cell_type": "code",
   "execution_count": 139,
   "id": "c5bbfcb0",
   "metadata": {
    "hidden": true
   },
   "outputs": [
    {
     "data": {
      "text/plain": [
       "(130, 76)"
      ]
     },
     "execution_count": 139,
     "metadata": {},
     "output_type": "execute_result"
    }
   ],
   "source": [
    "train_impute.shape# already have train data from earlier model"
   ]
  },
  {
   "cell_type": "code",
   "execution_count": 141,
   "id": "76c45417",
   "metadata": {
    "hidden": true
   },
   "outputs": [
    {
     "data": {
      "text/plain": [
       "(4, 76)"
      ]
     },
     "execution_count": 141,
     "metadata": {},
     "output_type": "execute_result"
    }
   ],
   "source": [
    "test_impute_2 = df_1.loc[[20, 42, 82, 86], :].copy() ## rows with missing values for column \"P7\", the rows we want to impute missing data\n",
    "test_impute_2.shape"
   ]
  },
  {
   "cell_type": "code",
   "execution_count": 146,
   "id": "8dfa2a4f",
   "metadata": {
    "hidden": true
   },
   "outputs": [
    {
     "data": {
      "text/plain": [
       "Id\n",
       "20   NaN\n",
       "42   NaN\n",
       "82   NaN\n",
       "86   NaN\n",
       "Name: P7, dtype: float64"
      ]
     },
     "execution_count": 146,
     "metadata": {},
     "output_type": "execute_result"
    }
   ],
   "source": [
    "test_impute_2[\"P7\"]"
   ]
  },
  {
   "cell_type": "markdown",
   "id": "d4130c48",
   "metadata": {
    "heading_collapsed": true,
    "hidden": true
   },
   "source": [
    "#### Splitting data into target and features"
   ]
  },
  {
   "cell_type": "code",
   "execution_count": 147,
   "id": "3858ed3f",
   "metadata": {
    "hidden": true
   },
   "outputs": [],
   "source": [
    "X_train_impute_2 = train_impute.drop(labels = \"P7\", axis = 1)\n",
    "Y_train_impute_2 = train_impute[\"P7\"]\n",
    "X_test_impute_2 = test_impute_2.drop(labels = \"P7\", axis = 1)"
   ]
  },
  {
   "cell_type": "code",
   "execution_count": 148,
   "id": "7c8a69dc",
   "metadata": {
    "hidden": true
   },
   "outputs": [
    {
     "data": {
      "text/plain": [
       "(130, 75)"
      ]
     },
     "execution_count": 148,
     "metadata": {},
     "output_type": "execute_result"
    }
   ],
   "source": [
    "X_train_impute_2.shape"
   ]
  },
  {
   "cell_type": "code",
   "execution_count": 149,
   "id": "3fe24da9",
   "metadata": {
    "hidden": true
   },
   "outputs": [
    {
     "data": {
      "text/plain": [
       "(130,)"
      ]
     },
     "execution_count": 149,
     "metadata": {},
     "output_type": "execute_result"
    }
   ],
   "source": [
    "Y_train_impute_2.shape"
   ]
  },
  {
   "cell_type": "code",
   "execution_count": 150,
   "id": "f9578263",
   "metadata": {
    "hidden": true
   },
   "outputs": [
    {
     "data": {
      "text/plain": [
       "(4, 75)"
      ]
     },
     "execution_count": 150,
     "metadata": {},
     "output_type": "execute_result"
    }
   ],
   "source": [
    "X_test_impute_2.shape"
   ]
  },
  {
   "cell_type": "markdown",
   "id": "f691e063",
   "metadata": {
    "heading_collapsed": true,
    "hidden": true
   },
   "source": [
    "#### Training Linear Regreesion model"
   ]
  },
  {
   "cell_type": "code",
   "execution_count": 151,
   "id": "b989727d",
   "metadata": {
    "hidden": true
   },
   "outputs": [
    {
     "data": {
      "text/plain": [
       "LinearRegression()"
      ]
     },
     "execution_count": 151,
     "metadata": {},
     "output_type": "execute_result"
    }
   ],
   "source": [
    "model_impute_2 = LinearRegression(fit_intercept = True)\n",
    "model_impute_2.fit(X_train_impute_2, Y_train_impute_2)"
   ]
  },
  {
   "cell_type": "code",
   "execution_count": 152,
   "id": "c9d93031",
   "metadata": {
    "hidden": true
   },
   "outputs": [
    {
     "name": "stderr",
     "output_type": "stream",
     "text": [
      "<ipython-input-152-55f1b91296c6>:1: SettingWithCopyWarning: \n",
      "A value is trying to be set on a copy of a slice from a DataFrame\n",
      "\n",
      "See the caveats in the documentation: https://pandas.pydata.org/pandas-docs/stable/user_guide/indexing.html#returning-a-view-versus-a-copy\n",
      "  X_test_impute_2[\"P6\"][86] = X_train_impute_2[\"P6\"].mean()\n"
     ]
    }
   ],
   "source": [
    "X_test_impute_2[\"P6\"][86] = X_train_impute_2[\"P6\"].mean()"
   ]
  },
  {
   "cell_type": "code",
   "execution_count": 153,
   "id": "611347da",
   "metadata": {
    "hidden": true
   },
   "outputs": [
    {
     "data": {
      "text/plain": [
       "array([-3.04966442e+06,  9.39732470e+00, -3.04966729e+06,  5.91485815e+00])"
      ]
     },
     "execution_count": 153,
     "metadata": {},
     "output_type": "execute_result"
    }
   ],
   "source": [
    "model_impute_2.predict(X_test_impute_2)"
   ]
  },
  {
   "cell_type": "code",
   "execution_count": 156,
   "id": "1d64b3c9",
   "metadata": {
    "hidden": true
   },
   "outputs": [
    {
     "data": {
      "text/plain": [
       "-3049664.42"
      ]
     },
     "execution_count": 156,
     "metadata": {},
     "output_type": "execute_result"
    }
   ],
   "source": [
    "-3.04966442e+06"
   ]
  },
  {
   "cell_type": "markdown",
   "id": "a0104f70",
   "metadata": {
    "hidden": true
   },
   "source": [
    "- particular model is giving very high values, all those numerical columns must contain redundent information and high multi-collinearity, that's why it is overfitting.\n",
    "- using mean values for missing value imputation"
   ]
  },
  {
   "cell_type": "markdown",
   "id": "9c893afc",
   "metadata": {
    "heading_collapsed": true,
    "hidden": true
   },
   "source": [
    "### Imputing mean values instead"
   ]
  },
  {
   "cell_type": "code",
   "execution_count": 163,
   "id": "a58c94ad",
   "metadata": {
    "hidden": true
   },
   "outputs": [
    {
     "data": {
      "text/plain": [
       "0"
      ]
     },
     "execution_count": 163,
     "metadata": {},
     "output_type": "execute_result"
    }
   ],
   "source": [
    "df[\"P6\"] = df[\"P6\"].fillna(df[\"P6\"].mean())\n",
    "df[\"P6\"].isnull().sum()"
   ]
  },
  {
   "cell_type": "code",
   "execution_count": 164,
   "id": "ea86264f",
   "metadata": {
    "hidden": true
   },
   "outputs": [
    {
     "data": {
      "text/plain": [
       "0"
      ]
     },
     "execution_count": 164,
     "metadata": {},
     "output_type": "execute_result"
    }
   ],
   "source": [
    "df[\"P7\"] = df[\"P7\"].fillna(df[\"P7\"].mean())\n",
    "df[\"P7\"].isnull().sum()"
   ]
  },
  {
   "cell_type": "code",
   "execution_count": 165,
   "id": "2d9e3cd0",
   "metadata": {
    "hidden": true
   },
   "outputs": [
    {
     "data": {
      "text/plain": [
       "0"
      ]
     },
     "execution_count": 165,
     "metadata": {},
     "output_type": "execute_result"
    }
   ],
   "source": [
    "df_1[\"P6\"] = df_1[\"P6\"].fillna(df_1[\"P6\"].mean())\n",
    "df_1[\"P6\"].isnull().sum()"
   ]
  },
  {
   "cell_type": "code",
   "execution_count": 166,
   "id": "347cb08d",
   "metadata": {
    "hidden": true
   },
   "outputs": [
    {
     "data": {
      "text/plain": [
       "0"
      ]
     },
     "execution_count": 166,
     "metadata": {},
     "output_type": "execute_result"
    }
   ],
   "source": [
    "df_1[\"P7\"] = df_1[\"P7\"].fillna(df_1[\"P7\"].mean())\n",
    "df_1[\"P7\"].isnull().sum()"
   ]
  },
  {
   "cell_type": "markdown",
   "id": "fdf81809",
   "metadata": {
    "heading_collapsed": true
   },
   "source": [
    "# Visualization"
   ]
  },
  {
   "cell_type": "markdown",
   "id": "1a6493bb",
   "metadata": {
    "heading_collapsed": true,
    "hidden": true
   },
   "source": [
    "## Heatmap of correlation matrix"
   ]
  },
  {
   "cell_type": "code",
   "execution_count": 16,
   "id": "da2f72dc",
   "metadata": {
    "hidden": true
   },
   "outputs": [
    {
     "data": {
      "image/png": "[encoded data removed]",
      "text/plain": [
       "<Figure size 1440x1440 with 2 Axes>"
      ]
     },
     "metadata": {
      "needs_background": "light"
     },
     "output_type": "display_data"
    }
   ],
   "source": [
    "temp_df = df\n",
    "\n",
    "#plot details\n",
    "title_string = 'Correlation Heatmap'\n",
    "title_font = 14\n",
    "\n",
    "f, ax = plt.subplots(figsize=(20, 20))\n",
    "corr = temp_df.corr()\n",
    "hm = sns.heatmap(round(corr,2), annot=True, ax=ax, cmap=\"coolwarm\",fmt='.2f',\n",
    "            linewidths=.05)\n",
    "f.subplots_adjust(top=0.93)\n",
    "t= f.suptitle(title_string, fontsize = title_font)"
   ]
  },
  {
   "cell_type": "markdown",
   "id": "fd0865bc",
   "metadata": {
    "heading_collapsed": true
   },
   "source": [
    "# Rough Work"
   ]
  },
  {
   "cell_type": "markdown",
   "id": "8fb103b3",
   "metadata": {
    "heading_collapsed": true,
    "hidden": true
   },
   "source": [
    "## Trying PCA on some features"
   ]
  },
  {
   "cell_type": "code",
   "execution_count": 174,
   "id": "5448d3d1",
   "metadata": {
    "hidden": true
   },
   "outputs": [],
   "source": [
    "from sklearn.decomposition import PCA"
   ]
  },
  {
   "cell_type": "code",
   "execution_count": 324,
   "id": "3122c090",
   "metadata": {
    "hidden": true
   },
   "outputs": [
    {
     "data": {
      "text/plain": [
       "Index(['P1', 'P2', 'P3', 'P4', 'P5', 'P6', 'P7', 'P8', 'P9', 'P10', 'P11',\n",
       "       'P12', 'P13', 'P14', 'P15', 'P16', 'P17', 'P18', 'P19', 'P20', 'P21',\n",
       "       'P22', 'P23', 'P24', 'P25', 'P26', 'P27', 'P28', 'P29', 'P30', 'P31',\n",
       "       'P32', 'P33', 'P34', 'P35', 'P36', 'P37'],\n",
       "      dtype='object')"
      ]
     },
     "execution_count": 324,
     "metadata": {},
     "output_type": "execute_result"
    }
   ],
   "source": [
    "df.columns[3:40]"
   ]
  },
  {
   "cell_type": "code",
   "execution_count": 325,
   "id": "faf015df",
   "metadata": {
    "hidden": true
   },
   "outputs": [],
   "source": [
    "temp = df.iloc[:, 3:40]"
   ]
  },
  {
   "cell_type": "code",
   "execution_count": 328,
   "id": "0b9c9552",
   "metadata": {
    "hidden": true
   },
   "outputs": [
    {
     "name": "stdout",
     "output_type": "stream",
     "text": [
      "Explained Variance using 1 components = 65.94%\n",
      "Explained Variance using 2 components = 82.63%\n",
      "Explained Variance using 3 components = 85.79%\n",
      "Explained Variance using 4 components = 88.21%\n",
      "Explained Variance using 5 components = 89.87%\n",
      "Explained Variance using 6 components = 91.46%\n",
      "Explained Variance using 7 components = 92.77%\n",
      "Explained Variance using 8 components = 93.73%\n",
      "Explained Variance using 9 components = 94.58%\n",
      "Explained Variance using 10 components = 95.27%\n",
      "Explained Variance using 11 components = 95.86%\n",
      "Explained Variance using 12 components = 96.42%\n",
      "Explained Variance using 13 components = 96.84%\n",
      "Explained Variance using 14 components = 97.25%\n"
     ]
    }
   ],
   "source": [
    "for i in range(1, 15):\n",
    "    temp_pca_model = PCA(n_components = i)\n",
    "    temp_pca_model.fit(temp)\n",
    "    print(\"Explained Variance using {0} components = {1}%\".format(i, round(sum(temp_pca_model.explained_variance_ratio_) * 100, 2)))"
   ]
  },
  {
   "cell_type": "markdown",
   "id": "44afc7c2",
   "metadata": {
    "heading_collapsed": true,
    "hidden": true
   },
   "source": [
    "## Trying adding all \"P\" columns"
   ]
  },
  {
   "cell_type": "code",
   "execution_count": 204,
   "id": "8bcd35da",
   "metadata": {
    "hidden": true
   },
   "outputs": [
    {
     "data": {
      "text/plain": [
       "(137,)"
      ]
     },
     "execution_count": 204,
     "metadata": {},
     "output_type": "execute_result"
    }
   ],
   "source": [
    "df.iloc[:, 3:40].values.sum(axis = 1).shape"
   ]
  },
  {
   "cell_type": "code",
   "execution_count": 209,
   "id": "afe3a9c6",
   "metadata": {
    "hidden": true
   },
   "outputs": [],
   "source": [
    "df_sum_p = pd.DataFrame(df.iloc[:, 3:40].values.sum(axis = 1), index = df.index, columns = [\"P_sum\"])"
   ]
  },
  {
   "cell_type": "code",
   "execution_count": 223,
   "id": "469f1c16",
   "metadata": {
    "hidden": true
   },
   "outputs": [
    {
     "data": {
      "text/html": [
       "<div>\n",
       "<style scoped>\n",
       "    .dataframe tbody tr th:only-of-type {\n",
       "        vertical-align: middle;\n",
       "    }\n",
       "\n",
       "    .dataframe tbody tr th {\n",
       "        vertical-align: top;\n",
       "    }\n",
       "\n",
       "    .dataframe thead th {\n",
       "        text-align: right;\n",
       "    }\n",
       "</style>\n",
       "<table border=\"1\" class=\"dataframe\">\n",
       "  <thead>\n",
       "    <tr style=\"text-align: right;\">\n",
       "      <th></th>\n",
       "      <th>P_sum</th>\n",
       "      <th>revenue</th>\n",
       "    </tr>\n",
       "  </thead>\n",
       "  <tbody>\n",
       "    <tr>\n",
       "      <th>P_sum</th>\n",
       "      <td>1.00000</td>\n",
       "      <td>0.26358</td>\n",
       "    </tr>\n",
       "    <tr>\n",
       "      <th>revenue</th>\n",
       "      <td>0.26358</td>\n",
       "      <td>1.00000</td>\n",
       "    </tr>\n",
       "  </tbody>\n",
       "</table>\n",
       "</div>"
      ],
      "text/plain": [
       "           P_sum  revenue\n",
       "P_sum    1.00000  0.26358\n",
       "revenue  0.26358  1.00000"
      ]
     },
     "execution_count": 223,
     "metadata": {},
     "output_type": "execute_result"
    }
   ],
   "source": [
    "pd.concat([df_sum_p, df[\"revenue\"]], axis = 1).corr(method = \"spearman\")"
   ]
  },
  {
   "cell_type": "markdown",
   "id": "280a0ebe",
   "metadata": {
    "heading_collapsed": true,
    "hidden": true
   },
   "source": [
    "## Trying Multiplying all \"P\" columns"
   ]
  },
  {
   "cell_type": "code",
   "execution_count": 222,
   "id": "c6f46139",
   "metadata": {
    "hidden": true
   },
   "outputs": [
    {
     "data": {
      "text/plain": [
       "(137,)"
      ]
     },
     "execution_count": 222,
     "metadata": {},
     "output_type": "execute_result"
    }
   ],
   "source": [
    "np.multiply.reduce(df.iloc[:, 3:40].T).shape"
   ]
  },
  {
   "cell_type": "code",
   "execution_count": 224,
   "id": "c1922724",
   "metadata": {
    "hidden": true
   },
   "outputs": [],
   "source": [
    "df_prod_p = pd.DataFrame(np.multiply.reduce(df.iloc[:, 3:40].T), index = df.index, columns = [\"P_prod\"])"
   ]
  },
  {
   "cell_type": "code",
   "execution_count": 225,
   "id": "78d39c7b",
   "metadata": {
    "hidden": true
   },
   "outputs": [
    {
     "data": {
      "text/html": [
       "<div>\n",
       "<style scoped>\n",
       "    .dataframe tbody tr th:only-of-type {\n",
       "        vertical-align: middle;\n",
       "    }\n",
       "\n",
       "    .dataframe tbody tr th {\n",
       "        vertical-align: top;\n",
       "    }\n",
       "\n",
       "    .dataframe thead th {\n",
       "        text-align: right;\n",
       "    }\n",
       "</style>\n",
       "<table border=\"1\" class=\"dataframe\">\n",
       "  <thead>\n",
       "    <tr style=\"text-align: right;\">\n",
       "      <th></th>\n",
       "      <th>P_prod</th>\n",
       "    </tr>\n",
       "    <tr>\n",
       "      <th>Id</th>\n",
       "      <th></th>\n",
       "    </tr>\n",
       "  </thead>\n",
       "  <tbody>\n",
       "    <tr>\n",
       "      <th>0</th>\n",
       "      <td>4.777574e+17</td>\n",
       "    </tr>\n",
       "    <tr>\n",
       "      <th>1</th>\n",
       "      <td>0.000000e+00</td>\n",
       "    </tr>\n",
       "    <tr>\n",
       "      <th>2</th>\n",
       "      <td>0.000000e+00</td>\n",
       "    </tr>\n",
       "    <tr>\n",
       "      <th>3</th>\n",
       "      <td>1.096848e+30</td>\n",
       "    </tr>\n",
       "    <tr>\n",
       "      <th>4</th>\n",
       "      <td>2.015539e+15</td>\n",
       "    </tr>\n",
       "    <tr>\n",
       "      <th>...</th>\n",
       "      <td>...</td>\n",
       "    </tr>\n",
       "    <tr>\n",
       "      <th>132</th>\n",
       "      <td>0.000000e+00</td>\n",
       "    </tr>\n",
       "    <tr>\n",
       "      <th>133</th>\n",
       "      <td>0.000000e+00</td>\n",
       "    </tr>\n",
       "    <tr>\n",
       "      <th>134</th>\n",
       "      <td>0.000000e+00</td>\n",
       "    </tr>\n",
       "    <tr>\n",
       "      <th>135</th>\n",
       "      <td>0.000000e+00</td>\n",
       "    </tr>\n",
       "    <tr>\n",
       "      <th>136</th>\n",
       "      <td>0.000000e+00</td>\n",
       "    </tr>\n",
       "  </tbody>\n",
       "</table>\n",
       "<p>137 rows × 1 columns</p>\n",
       "</div>"
      ],
      "text/plain": [
       "           P_prod\n",
       "Id               \n",
       "0    4.777574e+17\n",
       "1    0.000000e+00\n",
       "2    0.000000e+00\n",
       "3    1.096848e+30\n",
       "4    2.015539e+15\n",
       "..            ...\n",
       "132  0.000000e+00\n",
       "133  0.000000e+00\n",
       "134  0.000000e+00\n",
       "135  0.000000e+00\n",
       "136  0.000000e+00\n",
       "\n",
       "[137 rows x 1 columns]"
      ]
     },
     "execution_count": 225,
     "metadata": {},
     "output_type": "execute_result"
    }
   ],
   "source": [
    "df_prod_p"
   ]
  },
  {
   "cell_type": "code",
   "execution_count": 233,
   "id": "994b3503",
   "metadata": {
    "hidden": true
   },
   "outputs": [
    {
     "data": {
      "text/html": [
       "<div>\n",
       "<style scoped>\n",
       "    .dataframe tbody tr th:only-of-type {\n",
       "        vertical-align: middle;\n",
       "    }\n",
       "\n",
       "    .dataframe tbody tr th {\n",
       "        vertical-align: top;\n",
       "    }\n",
       "\n",
       "    .dataframe thead th {\n",
       "        text-align: right;\n",
       "    }\n",
       "</style>\n",
       "<table border=\"1\" class=\"dataframe\">\n",
       "  <thead>\n",
       "    <tr style=\"text-align: right;\">\n",
       "      <th></th>\n",
       "      <th>P_prod</th>\n",
       "      <th>revenue</th>\n",
       "    </tr>\n",
       "  </thead>\n",
       "  <tbody>\n",
       "    <tr>\n",
       "      <th>P_prod</th>\n",
       "      <td>1.000000</td>\n",
       "      <td>-0.058754</td>\n",
       "    </tr>\n",
       "    <tr>\n",
       "      <th>revenue</th>\n",
       "      <td>-0.058754</td>\n",
       "      <td>1.000000</td>\n",
       "    </tr>\n",
       "  </tbody>\n",
       "</table>\n",
       "</div>"
      ],
      "text/plain": [
       "           P_prod   revenue\n",
       "P_prod   1.000000 -0.058754\n",
       "revenue -0.058754  1.000000"
      ]
     },
     "execution_count": 233,
     "metadata": {},
     "output_type": "execute_result"
    }
   ],
   "source": [
    "pd.concat([df_prod_p, df[\"revenue\"]], axis = 1).corr()"
   ]
  },
  {
   "cell_type": "code",
   "execution_count": 231,
   "id": "0968c951",
   "metadata": {
    "hidden": true
   },
   "outputs": [
    {
     "data": {
      "text/plain": [
       "P1       4\n",
       "P2     5.0\n",
       "P3     4.0\n",
       "P4     4.0\n",
       "P5       1\n",
       "P6     2.0\n",
       "P7     5.0\n",
       "P8       5\n",
       "P9       5\n",
       "P10      5\n",
       "P11      1\n",
       "P12      5\n",
       "P13    5.0\n",
       "P14      0\n",
       "P15      0\n",
       "P16      0\n",
       "P17      0\n",
       "P18      0\n",
       "P19      3\n",
       "P20      2\n",
       "P21      1\n",
       "P22      3\n",
       "P23      2\n",
       "P24      0\n",
       "P25      0\n",
       "P26    0.0\n",
       "P27    0.0\n",
       "P28    3.0\n",
       "P29    3.0\n",
       "P30      0\n",
       "P31      0\n",
       "P32      0\n",
       "P33      0\n",
       "P34      0\n",
       "P35      0\n",
       "P36      0\n",
       "P37      0\n",
       "Name: 1, dtype: object"
      ]
     },
     "execution_count": 231,
     "metadata": {},
     "output_type": "execute_result"
    }
   ],
   "source": [
    "df.iloc[1, 3:40]"
   ]
  },
  {
   "cell_type": "markdown",
   "id": "d0b6a4ec",
   "metadata": {
    "heading_collapsed": true
   },
   "source": [
    "# Model meets data"
   ]
  },
  {
   "cell_type": "markdown",
   "id": "4838c2f7",
   "metadata": {
    "heading_collapsed": true,
    "hidden": true
   },
   "source": [
    "## Splitting data into train and test"
   ]
  },
  {
   "cell_type": "code",
   "execution_count": 236,
   "id": "627d29b2",
   "metadata": {
    "hidden": true
   },
   "outputs": [],
   "source": [
    "from sklearn.model_selection import train_test_split"
   ]
  },
  {
   "cell_type": "code",
   "execution_count": 237,
   "id": "02df77a8",
   "metadata": {
    "hidden": true
   },
   "outputs": [],
   "source": [
    "train_test_split?"
   ]
  },
  {
   "cell_type": "code",
   "execution_count": 238,
   "id": "b54e6de6",
   "metadata": {
    "hidden": true
   },
   "outputs": [],
   "source": [
    "X_train, X_test, y_train, y_test = train_test_split(df.drop(labels = \"revenue\", axis = 1), df[\"revenue\"], test_size = 0.2, random_state = 5)"
   ]
  },
  {
   "cell_type": "code",
   "execution_count": 239,
   "id": "a3740026",
   "metadata": {
    "hidden": true
   },
   "outputs": [],
   "source": [
    "X_train_1, X_test_1, y_train_1, y_test_1 = train_test_split(df_1.drop(labels = \"revenue\", axis = 1), df_1[\"revenue\"], test_size = 0.2, random_state = 5)"
   ]
  },
  {
   "cell_type": "markdown",
   "id": "fb14aefb",
   "metadata": {
    "hidden": true
   },
   "source": [
    "- \"_1\" means the train and test set with categorical embedded using one hot encoding"
   ]
  },
  {
   "cell_type": "code",
   "execution_count": 240,
   "id": "3ccfa80b",
   "metadata": {
    "hidden": true
   },
   "outputs": [
    {
     "data": {
      "text/plain": [
       "array([ True,  True,  True,  True,  True,  True,  True,  True,  True,\n",
       "        True,  True,  True,  True,  True,  True,  True,  True,  True,\n",
       "        True,  True,  True,  True,  True,  True,  True,  True,  True,\n",
       "        True,  True,  True,  True,  True,  True,  True,  True,  True,\n",
       "        True,  True,  True,  True,  True,  True,  True,  True,  True,\n",
       "        True,  True,  True,  True,  True,  True,  True,  True,  True,\n",
       "        True,  True,  True,  True,  True,  True,  True,  True,  True,\n",
       "        True,  True,  True,  True,  True,  True,  True,  True,  True,\n",
       "        True,  True,  True,  True,  True,  True,  True,  True,  True,\n",
       "        True,  True,  True,  True,  True,  True,  True,  True,  True,\n",
       "        True,  True,  True,  True,  True,  True,  True,  True,  True,\n",
       "        True,  True,  True,  True,  True,  True,  True,  True,  True,\n",
       "        True])"
      ]
     },
     "execution_count": 240,
     "metadata": {},
     "output_type": "execute_result"
    }
   ],
   "source": [
    "X_train.index == X_train_1.index"
   ]
  },
  {
   "cell_type": "markdown",
   "id": "53b06e5c",
   "metadata": {
    "hidden": true
   },
   "source": [
    "- because of the same randomstate they both X_train and X_train_1 have same ids, consequently same entries"
   ]
  },
  {
   "cell_type": "markdown",
   "id": "585db2ae",
   "metadata": {
    "heading_collapsed": true,
    "hidden": true
   },
   "source": [
    "## Linear Regression"
   ]
  },
  {
   "cell_type": "markdown",
   "id": "fedbe47c",
   "metadata": {
    "hidden": true
   },
   "source": [
    "- easiest to implement. \n",
    "- Fitting a linear hyperplane to the data with least squares error"
   ]
  },
  {
   "cell_type": "code",
   "execution_count": 235,
   "id": "5d92aa07",
   "metadata": {
    "hidden": true
   },
   "outputs": [],
   "source": [
    "lr_model = LinearRegression(fit_intercept = True)"
   ]
  },
  {
   "cell_type": "code",
   "execution_count": 241,
   "id": "a41bc035",
   "metadata": {
    "hidden": true
   },
   "outputs": [
    {
     "data": {
      "text/plain": [
       "LinearRegression()"
      ]
     },
     "execution_count": 241,
     "metadata": {},
     "output_type": "execute_result"
    }
   ],
   "source": [
    "lr_model.fit(X_train_1, y_train_1)"
   ]
  },
  {
   "cell_type": "code",
   "execution_count": 242,
   "id": "e2c8145d",
   "metadata": {
    "hidden": true
   },
   "outputs": [],
   "source": [
    "from sklearn.metrics import r2_score"
   ]
  },
  {
   "cell_type": "code",
   "execution_count": 243,
   "id": "669b2137",
   "metadata": {
    "hidden": true
   },
   "outputs": [],
   "source": [
    "y_lr_model = lr_model.predict(X_test_1)"
   ]
  },
  {
   "cell_type": "code",
   "execution_count": 245,
   "id": "6b2a8a48",
   "metadata": {
    "hidden": true
   },
   "outputs": [
    {
     "data": {
      "text/plain": [
       "-7.266408723356193e+22"
      ]
     },
     "execution_count": 245,
     "metadata": {},
     "output_type": "execute_result"
    }
   ],
   "source": [
    "r2_score(y_test_1, y_lr_model)"
   ]
  },
  {
   "cell_type": "code",
   "execution_count": 246,
   "id": "b68ad169",
   "metadata": {
    "hidden": true
   },
   "outputs": [
    {
     "data": {
      "text/plain": [
       "-7.266408723356193e+22"
      ]
     },
     "execution_count": 246,
     "metadata": {},
     "output_type": "execute_result"
    }
   ],
   "source": [
    "-7.266408723356193e+22"
   ]
  },
  {
   "cell_type": "markdown",
   "id": "627ee774",
   "metadata": {
    "hidden": true
   },
   "source": [
    "- I've never seen model this bad\n",
    "- no point even trying to add bias to it by ridge/lasso regression"
   ]
  },
  {
   "cell_type": "code",
   "execution_count": 247,
   "id": "6d836eb7",
   "metadata": {
    "hidden": true
   },
   "outputs": [
    {
     "data": {
      "text/plain": [
       "0.5532383402825343"
      ]
     },
     "execution_count": 247,
     "metadata": {},
     "output_type": "execute_result"
    }
   ],
   "source": [
    "y_lr_model_train = lr_model.predict(X_train_1)\n",
    "r2_score(y_train_1, y_lr_model_train)"
   ]
  },
  {
   "cell_type": "markdown",
   "id": "c9a8204f",
   "metadata": {
    "heading_collapsed": true,
    "hidden": true
   },
   "source": [
    "## KNN"
   ]
  },
  {
   "cell_type": "markdown",
   "id": "c04bb536",
   "metadata": {
    "heading_collapsed": true,
    "hidden": true
   },
   "source": [
    "### Using MinMaxXcalar first"
   ]
  },
  {
   "cell_type": "code",
   "execution_count": 353,
   "id": "a1d6373b",
   "metadata": {
    "hidden": true
   },
   "outputs": [],
   "source": [
    "from sklearn.preprocessing import MinMaxScaler"
   ]
  },
  {
   "cell_type": "code",
   "execution_count": 355,
   "id": "46cb6bcf",
   "metadata": {
    "hidden": true
   },
   "outputs": [],
   "source": [
    "scalar = MinMaxScaler()"
   ]
  },
  {
   "cell_type": "code",
   "execution_count": 359,
   "id": "9a229fc5",
   "metadata": {
    "hidden": true
   },
   "outputs": [],
   "source": [
    "X_train_scaled = pd.DataFrame(scalar.fit_transform(X_train_1), index = X_train_1.index, columns = X_train_1.columns)"
   ]
  },
  {
   "cell_type": "code",
   "execution_count": 361,
   "id": "c8b3f6dd",
   "metadata": {
    "hidden": true
   },
   "outputs": [],
   "source": [
    "X_test_scaled = pd.DataFrame(scalar.fit_transform(X_test_1), index = X_test_1.index, columns = X_test_1.columns)"
   ]
  },
  {
   "cell_type": "code",
   "execution_count": 365,
   "id": "f0c0808e",
   "metadata": {
    "hidden": true
   },
   "outputs": [
    {
     "data": {
      "text/html": [
       "<div>\n",
       "<style scoped>\n",
       "    .dataframe tbody tr th:only-of-type {\n",
       "        vertical-align: middle;\n",
       "    }\n",
       "\n",
       "    .dataframe tbody tr th {\n",
       "        vertical-align: top;\n",
       "    }\n",
       "\n",
       "    .dataframe thead th {\n",
       "        text-align: right;\n",
       "    }\n",
       "</style>\n",
       "<table border=\"1\" class=\"dataframe\">\n",
       "  <thead>\n",
       "    <tr style=\"text-align: right;\">\n",
       "      <th></th>\n",
       "      <th>Adana</th>\n",
       "      <th>Afyonkarahisar</th>\n",
       "      <th>Amasya</th>\n",
       "      <th>Ankara</th>\n",
       "      <th>Antalya</th>\n",
       "      <th>Aydın</th>\n",
       "      <th>Balıkesir</th>\n",
       "      <th>Bolu</th>\n",
       "      <th>Bursa</th>\n",
       "      <th>Denizli</th>\n",
       "      <th>...</th>\n",
       "      <th>P32</th>\n",
       "      <th>P33</th>\n",
       "      <th>P34</th>\n",
       "      <th>P35</th>\n",
       "      <th>P36</th>\n",
       "      <th>P37</th>\n",
       "      <th>Open Year</th>\n",
       "      <th>City Group - Big Cities</th>\n",
       "      <th>Type - FC</th>\n",
       "      <th>Type - IL</th>\n",
       "    </tr>\n",
       "    <tr>\n",
       "      <th>Id</th>\n",
       "      <th></th>\n",
       "      <th></th>\n",
       "      <th></th>\n",
       "      <th></th>\n",
       "      <th></th>\n",
       "      <th></th>\n",
       "      <th></th>\n",
       "      <th></th>\n",
       "      <th></th>\n",
       "      <th></th>\n",
       "      <th></th>\n",
       "      <th></th>\n",
       "      <th></th>\n",
       "      <th></th>\n",
       "      <th></th>\n",
       "      <th></th>\n",
       "      <th></th>\n",
       "      <th></th>\n",
       "      <th></th>\n",
       "      <th></th>\n",
       "      <th></th>\n",
       "    </tr>\n",
       "  </thead>\n",
       "  <tbody>\n",
       "    <tr>\n",
       "      <th>57</th>\n",
       "      <td>0.0</td>\n",
       "      <td>0.0</td>\n",
       "      <td>0.0</td>\n",
       "      <td>0.0</td>\n",
       "      <td>1.0</td>\n",
       "      <td>0.0</td>\n",
       "      <td>0.0</td>\n",
       "      <td>0.0</td>\n",
       "      <td>0.0</td>\n",
       "      <td>0.0</td>\n",
       "      <td>...</td>\n",
       "      <td>0.0</td>\n",
       "      <td>0.0</td>\n",
       "      <td>0.0</td>\n",
       "      <td>0.0</td>\n",
       "      <td>0.0</td>\n",
       "      <td>0.0</td>\n",
       "      <td>0.6</td>\n",
       "      <td>0.0</td>\n",
       "      <td>1.0</td>\n",
       "      <td>0.0</td>\n",
       "    </tr>\n",
       "  </tbody>\n",
       "</table>\n",
       "<p>1 rows × 75 columns</p>\n",
       "</div>"
      ],
      "text/plain": [
       "    Adana  Afyonkarahisar  Amasya  Ankara  Antalya  Aydın  Balıkesir  Bolu  \\\n",
       "Id                                                                           \n",
       "57    0.0             0.0     0.0     0.0      1.0    0.0        0.0   0.0   \n",
       "\n",
       "    Bursa  Denizli  ...  P32  P33  P34  P35  P36  P37  Open Year  \\\n",
       "Id                  ...                                            \n",
       "57    0.0      0.0  ...  0.0  0.0  0.0  0.0  0.0  0.0        0.6   \n",
       "\n",
       "    City Group - Big Cities  Type - FC  Type - IL  \n",
       "Id                                                 \n",
       "57                      0.0        1.0        0.0  \n",
       "\n",
       "[1 rows x 75 columns]"
      ]
     },
     "execution_count": 365,
     "metadata": {},
     "output_type": "execute_result"
    }
   ],
   "source": [
    "X_test_scaled.head(1)"
   ]
  },
  {
   "cell_type": "markdown",
   "id": "625b5ca6",
   "metadata": {
    "heading_collapsed": true,
    "hidden": true
   },
   "source": [
    "### Fitting model"
   ]
  },
  {
   "cell_type": "code",
   "execution_count": 366,
   "id": "436ea6a6",
   "metadata": {
    "hidden": true
   },
   "outputs": [],
   "source": [
    "from sklearn.neighbors import KNeighborsRegressor"
   ]
  },
  {
   "cell_type": "code",
   "execution_count": 403,
   "id": "47027ab1",
   "metadata": {
    "hidden": true
   },
   "outputs": [
    {
     "name": "stdout",
     "output_type": "stream",
     "text": [
      "r2 score with 1 neighbors : -0.931\n",
      "r2 score with 2 neighbors : -0.382\n",
      "r2 score with 3 neighbors : -0.021\n",
      "r2 score with 4 neighbors : -0.092\n",
      "r2 score with 5 neighbors : -0.083\n",
      "r2 score with 6 neighbors : -0.043\n",
      "r2 score with 7 neighbors : 0.065\n",
      "r2 score with 8 neighbors : 0.063\n",
      "r2 score with 9 neighbors : 0.067\n",
      "r2 score with 10 neighbors : 0.069\n",
      "r2 score with 11 neighbors : 0.042\n",
      "r2 score with 12 neighbors : 0.057\n",
      "r2 score with 13 neighbors : 0.077\n",
      "r2 score with 14 neighbors : 0.051\n",
      "r2 score with 15 neighbors : 0.047\n"
     ]
    }
   ],
   "source": [
    "for i in range(1,16):\n",
    "    knn_model = KNeighborsRegressor(n_neighbors = i)\n",
    "    knn_model.fit(X_train_scaled, y_train_1)\n",
    "    knn_y = knn_model.predict(X_test_scaled)\n",
    "    print(\"r2 score with {0} neighbors :\".format(i), round(r2_score(y_test_1, knn_y), 3))"
   ]
  },
  {
   "cell_type": "markdown",
   "id": "4a62cb02",
   "metadata": {
    "hidden": true
   },
   "source": [
    "- scores good as random guesses"
   ]
  },
  {
   "cell_type": "markdown",
   "id": "47082ebc",
   "metadata": {
    "hidden": true
   },
   "source": [
    "- using less features"
   ]
  },
  {
   "cell_type": "code",
   "execution_count": 406,
   "id": "7a6d5afd",
   "metadata": {
    "hidden": true
   },
   "outputs": [],
   "source": [
    "temp_X_train = X_train_scaled[['Open Year', 'City Group - Big Cities', 'Type - FC', 'Type - IL']]\n",
    "temp_X_test = X_test_scaled[['Open Year', 'City Group - Big Cities', 'Type - FC', 'Type - IL']]"
   ]
  },
  {
   "cell_type": "code",
   "execution_count": 408,
   "id": "8c960af2",
   "metadata": {
    "hidden": true
   },
   "outputs": [
    {
     "name": "stdout",
     "output_type": "stream",
     "text": [
      "r2 score with 1 neighbors : -0.361\n",
      "r2 score with 2 neighbors : -0.193\n",
      "r2 score with 3 neighbors : -0.005\n",
      "r2 score with 4 neighbors : 0.075\n",
      "r2 score with 5 neighbors : -0.012\n",
      "r2 score with 6 neighbors : 0.059\n",
      "r2 score with 7 neighbors : 0.091\n",
      "r2 score with 8 neighbors : 0.132\n",
      "r2 score with 9 neighbors : 0.23\n",
      "r2 score with 10 neighbors : 0.247\n",
      "r2 score with 11 neighbors : 0.215\n",
      "r2 score with 12 neighbors : 0.205\n",
      "r2 score with 13 neighbors : 0.229\n",
      "r2 score with 14 neighbors : 0.272\n",
      "r2 score with 15 neighbors : 0.298\n",
      "r2 score with 16 neighbors : 0.296\n",
      "r2 score with 17 neighbors : 0.254\n",
      "r2 score with 18 neighbors : 0.245\n",
      "r2 score with 19 neighbors : 0.212\n",
      "r2 score with 20 neighbors : 0.209\n",
      "r2 score with 21 neighbors : 0.191\n",
      "r2 score with 22 neighbors : 0.175\n",
      "r2 score with 23 neighbors : 0.244\n",
      "r2 score with 24 neighbors : 0.229\n"
     ]
    }
   ],
   "source": [
    "for i in range(1,25):\n",
    "    knn_model = KNeighborsRegressor(n_neighbors = i)\n",
    "    knn_model.fit(temp_X_train, y_train_1)\n",
    "    knn_y = knn_model.predict(temp_X_test)\n",
    "    print(\"r2 score with {0} neighbors :\".format(i), round(r2_score(y_test_1, knn_y), 3))"
   ]
  },
  {
   "cell_type": "markdown",
   "id": "c1835849",
   "metadata": {
    "heading_collapsed": true,
    "hidden": true
   },
   "source": [
    "## Decision Tree Regressor"
   ]
  },
  {
   "cell_type": "code",
   "execution_count": 256,
   "id": "04bc8a0b",
   "metadata": {
    "hidden": true
   },
   "outputs": [],
   "source": [
    "from sklearn.tree import DecisionTreeRegressor"
   ]
  },
  {
   "cell_type": "code",
   "execution_count": 258,
   "id": "90c8b006",
   "metadata": {
    "hidden": true
   },
   "outputs": [],
   "source": [
    "dtr_model = DecisionTreeRegressor()"
   ]
  },
  {
   "cell_type": "code",
   "execution_count": 260,
   "id": "8e56d75e",
   "metadata": {
    "hidden": true
   },
   "outputs": [
    {
     "data": {
      "text/plain": [
       "DecisionTreeRegressor()"
      ]
     },
     "execution_count": 260,
     "metadata": {},
     "output_type": "execute_result"
    }
   ],
   "source": [
    "dtr_model.fit(X_train_1, y_train_1)"
   ]
  },
  {
   "cell_type": "code",
   "execution_count": 261,
   "id": "7c7159c3",
   "metadata": {
    "hidden": true
   },
   "outputs": [],
   "source": [
    "y_dtr_model = dtr_model.predict(X_test_1)"
   ]
  },
  {
   "cell_type": "code",
   "execution_count": 262,
   "id": "b9f39a62",
   "metadata": {
    "hidden": true
   },
   "outputs": [
    {
     "data": {
      "text/plain": [
       "-0.37380918352533277"
      ]
     },
     "execution_count": 262,
     "metadata": {},
     "output_type": "execute_result"
    }
   ],
   "source": [
    "r2_score(y_test_1, y_dtr_model)"
   ]
  },
  {
   "cell_type": "code",
   "execution_count": 263,
   "id": "a62b8196",
   "metadata": {
    "hidden": true
   },
   "outputs": [
    {
     "data": {
      "text/plain": [
       "1.0"
      ]
     },
     "execution_count": 263,
     "metadata": {},
     "output_type": "execute_result"
    }
   ],
   "source": [
    "y_dtr_model_train = dtr_model.predict(X_train_1)\n",
    "r2_score(y_train_1, y_dtr_model_train)"
   ]
  },
  {
   "cell_type": "markdown",
   "id": "98a73904",
   "metadata": {
    "hidden": true
   },
   "source": [
    "- clearly and overfit"
   ]
  },
  {
   "cell_type": "markdown",
   "id": "4a7efbe1",
   "metadata": {
    "heading_collapsed": true,
    "hidden": true
   },
   "source": [
    "### Hyperparameter tuning for add some bias to reduce variance"
   ]
  },
  {
   "cell_type": "code",
   "execution_count": 265,
   "id": "488673fd",
   "metadata": {
    "hidden": true
   },
   "outputs": [],
   "source": [
    "from sklearn.model_selection import GridSearchCV"
   ]
  },
  {
   "cell_type": "code",
   "execution_count": 309,
   "id": "5ce5bad5",
   "metadata": {
    "hidden": true
   },
   "outputs": [],
   "source": [
    "grid = {\n",
    "    \"criterion\": [\"mse\", \"friedman_mse\", \"mae\"],\n",
    "    \"max_depth\": [i for i in range(2, 10)],\n",
    "    \"min_samples_split\" : [i for i in range(2, 7)],\n",
    "    \"min_samples_leaf\" : [i for i in range(1, 7)]\n",
    "}"
   ]
  },
  {
   "cell_type": "code",
   "execution_count": 412,
   "id": "141ed3b7",
   "metadata": {
    "hidden": true
   },
   "outputs": [],
   "source": [
    "grid_search = GridSearchCV(DecisionTreeRegressor(), param_grid = grid, n_jobs = 2, cv = 5, verbose = 1)"
   ]
  },
  {
   "cell_type": "code",
   "execution_count": 315,
   "id": "c42cfdb0",
   "metadata": {
    "hidden": true
   },
   "outputs": [
    {
     "name": "stdout",
     "output_type": "stream",
     "text": [
      "Fitting 5 folds for each of 720 candidates, totalling 3600 fits\n"
     ]
    },
    {
     "data": {
      "text/plain": [
       "GridSearchCV(cv=5, estimator=DecisionTreeRegressor(), n_jobs=2,\n",
       "             param_grid={'criterion': ['mse', 'friedman_mse', 'mae'],\n",
       "                         'max_depth': [2, 3, 4, 5, 6, 7, 8, 9],\n",
       "                         'min_samples_leaf': [1, 2, 3, 4, 5, 6],\n",
       "                         'min_samples_split': [2, 3, 4, 5, 6]},\n",
       "             verbose=1)"
      ]
     },
     "execution_count": 315,
     "metadata": {},
     "output_type": "execute_result"
    }
   ],
   "source": [
    "grid_search.fit(X_train_1, y_train_1)"
   ]
  },
  {
   "cell_type": "code",
   "execution_count": 316,
   "id": "22695542",
   "metadata": {
    "hidden": true
   },
   "outputs": [
    {
     "data": {
      "text/plain": [
       "{'criterion': 'mae',\n",
       " 'max_depth': 2,\n",
       " 'min_samples_leaf': 5,\n",
       " 'min_samples_split': 2}"
      ]
     },
     "execution_count": 316,
     "metadata": {},
     "output_type": "execute_result"
    }
   ],
   "source": [
    "grid_search.best_params_"
   ]
  },
  {
   "cell_type": "code",
   "execution_count": 317,
   "id": "e316e3ec",
   "metadata": {
    "hidden": true
   },
   "outputs": [
    {
     "data": {
      "text/plain": [
       "0.16367206669669165"
      ]
     },
     "execution_count": 317,
     "metadata": {},
     "output_type": "execute_result"
    }
   ],
   "source": [
    "gs_dtr_y = grid_search.predict(X_test_1)\n",
    "r2_score(y_test_1, gs_dtr_y)"
   ]
  },
  {
   "cell_type": "markdown",
   "id": "9c9233be",
   "metadata": {
    "hidden": true
   },
   "source": [
    "- still a very poor performer"
   ]
  },
  {
   "cell_type": "markdown",
   "id": "135b74dc",
   "metadata": {
    "hidden": true
   },
   "source": [
    "- trying lesser features"
   ]
  },
  {
   "cell_type": "code",
   "execution_count": 329,
   "id": "3d0a278b",
   "metadata": {
    "hidden": true
   },
   "outputs": [],
   "source": [
    "temp_train = X_train_1[['Open Year', 'City Group - Big Cities', 'Type - FC', 'Type - IL']]"
   ]
  },
  {
   "cell_type": "code",
   "execution_count": 331,
   "id": "38f567d2",
   "metadata": {
    "hidden": true
   },
   "outputs": [],
   "source": [
    "temp_test = X_test_1[['Open Year', 'City Group - Big Cities', 'Type - FC', 'Type - IL']]"
   ]
  },
  {
   "cell_type": "code",
   "execution_count": 332,
   "id": "b7083254",
   "metadata": {
    "hidden": true
   },
   "outputs": [
    {
     "name": "stdout",
     "output_type": "stream",
     "text": [
      "Fitting 5 folds for each of 720 candidates, totalling 3600 fits\n"
     ]
    },
    {
     "data": {
      "text/plain": [
       "GridSearchCV(cv=5, estimator=DecisionTreeRegressor(), n_jobs=2,\n",
       "             param_grid={'criterion': ['mse', 'friedman_mse', 'mae'],\n",
       "                         'max_depth': [2, 3, 4, 5, 6, 7, 8, 9],\n",
       "                         'min_samples_leaf': [1, 2, 3, 4, 5, 6],\n",
       "                         'min_samples_split': [2, 3, 4, 5, 6]},\n",
       "             verbose=1)"
      ]
     },
     "execution_count": 332,
     "metadata": {},
     "output_type": "execute_result"
    }
   ],
   "source": [
    "grid_search.fit(temp_train, y_train_1)"
   ]
  },
  {
   "cell_type": "code",
   "execution_count": 333,
   "id": "7c57fe15",
   "metadata": {
    "hidden": true,
    "scrolled": true
   },
   "outputs": [
    {
     "data": {
      "text/plain": [
       "{'criterion': 'mae',\n",
       " 'max_depth': 5,\n",
       " 'min_samples_leaf': 2,\n",
       " 'min_samples_split': 3}"
      ]
     },
     "execution_count": 333,
     "metadata": {},
     "output_type": "execute_result"
    }
   ],
   "source": [
    "grid_search.best_params_"
   ]
  },
  {
   "cell_type": "code",
   "execution_count": 334,
   "id": "b71b8994",
   "metadata": {
    "hidden": true
   },
   "outputs": [
    {
     "data": {
      "text/plain": [
       "0.26125398875640693"
      ]
     },
     "execution_count": 334,
     "metadata": {},
     "output_type": "execute_result"
    }
   ],
   "source": [
    "gs_dtr_y = grid_search.predict(temp_test)\n",
    "r2_score(y_test_1, gs_dtr_y)"
   ]
  },
  {
   "cell_type": "markdown",
   "id": "57388b24",
   "metadata": {
    "hidden": true
   },
   "source": [
    "- ironically reducing features has increased the performance of the model"
   ]
  },
  {
   "cell_type": "markdown",
   "id": "e7042e82",
   "metadata": {
    "heading_collapsed": true,
    "hidden": true
   },
   "source": [
    "### Trying with Scaled Features"
   ]
  },
  {
   "cell_type": "code",
   "execution_count": 410,
   "id": "3d8e7859",
   "metadata": {
    "hidden": true
   },
   "outputs": [
    {
     "data": {
      "text/plain": [
       "-2.600665354363515"
      ]
     },
     "execution_count": 410,
     "metadata": {},
     "output_type": "execute_result"
    }
   ],
   "source": [
    "dtr_model = DecisionTreeRegressor()\n",
    "dtr_model.fit(X_train_scaled, y_train_1)\n",
    "y_dtr_model = dtr_model.predict(X_test_scaled)\n",
    "r2_score(y_test_1, y_dtr_model)"
   ]
  },
  {
   "cell_type": "code",
   "execution_count": 411,
   "id": "9cbacb6f",
   "metadata": {
    "hidden": true
   },
   "outputs": [
    {
     "data": {
      "text/plain": [
       "1.0"
      ]
     },
     "execution_count": 411,
     "metadata": {},
     "output_type": "execute_result"
    }
   ],
   "source": [
    "y_dtr_model_train = dtr_model.predict(X_train_scaled)\n",
    "r2_score(y_train_1, y_dtr_model_train)"
   ]
  },
  {
   "cell_type": "markdown",
   "id": "84a7d962",
   "metadata": {
    "hidden": true
   },
   "source": [
    "- Clearly an overfit again"
   ]
  },
  {
   "cell_type": "markdown",
   "id": "54116094",
   "metadata": {
    "hidden": true
   },
   "source": [
    "- Trying hyperparameter tuning"
   ]
  },
  {
   "cell_type": "code",
   "execution_count": 413,
   "id": "bbdcf540",
   "metadata": {
    "hidden": true
   },
   "outputs": [],
   "source": [
    "grid = {\n",
    "    \"criterion\": [\"mse\", \"friedman_mse\", \"mae\"],\n",
    "    \"max_depth\": [i for i in range(2, 10)],\n",
    "    \"min_samples_split\" : [i for i in range(2, 7)],\n",
    "    \"min_samples_leaf\" : [i for i in range(1, 7)]\n",
    "}"
   ]
  },
  {
   "cell_type": "code",
   "execution_count": 414,
   "id": "464f66e8",
   "metadata": {
    "hidden": true
   },
   "outputs": [
    {
     "name": "stdout",
     "output_type": "stream",
     "text": [
      "Fitting 5 folds for each of 720 candidates, totalling 3600 fits\n"
     ]
    },
    {
     "data": {
      "text/plain": [
       "GridSearchCV(cv=5, estimator=DecisionTreeRegressor(), n_jobs=2,\n",
       "             param_grid={'criterion': ['mse', 'friedman_mse', 'mae'],\n",
       "                         'max_depth': [2, 3, 4, 5, 6, 7, 8, 9],\n",
       "                         'min_samples_leaf': [1, 2, 3, 4, 5, 6],\n",
       "                         'min_samples_split': [2, 3, 4, 5, 6]},\n",
       "             verbose=1)"
      ]
     },
     "execution_count": 414,
     "metadata": {},
     "output_type": "execute_result"
    }
   ],
   "source": [
    "grid_search = GridSearchCV(DecisionTreeRegressor(), param_grid = grid, n_jobs = 2, cv = 5, verbose = 1)\n",
    "grid_search.fit(X_train_scaled, y_train_1)"
   ]
  },
  {
   "cell_type": "code",
   "execution_count": 415,
   "id": "bd70c2f2",
   "metadata": {
    "hidden": true
   },
   "outputs": [
    {
     "data": {
      "text/plain": [
       "{'criterion': 'mae',\n",
       " 'max_depth': 2,\n",
       " 'min_samples_leaf': 5,\n",
       " 'min_samples_split': 2}"
      ]
     },
     "execution_count": 415,
     "metadata": {},
     "output_type": "execute_result"
    }
   ],
   "source": [
    "grid_search.best_params_"
   ]
  },
  {
   "cell_type": "code",
   "execution_count": 416,
   "id": "cf83f8e0",
   "metadata": {
    "hidden": true
   },
   "outputs": [
    {
     "data": {
      "text/plain": [
       "-0.33011391278581614"
      ]
     },
     "execution_count": 416,
     "metadata": {},
     "output_type": "execute_result"
    }
   ],
   "source": [
    "gs_dtr_y = grid_search.predict(X_test_scaled)\n",
    "r2_score(y_test_1, gs_dtr_y)"
   ]
  },
  {
   "cell_type": "markdown",
   "id": "417e0858",
   "metadata": {
    "hidden": true
   },
   "source": [
    "- clearly MinMaxScaler hasn't improved it's performance"
   ]
  },
  {
   "cell_type": "markdown",
   "id": "74b98bce",
   "metadata": {
    "heading_collapsed": true,
    "hidden": true
   },
   "source": [
    "## RandomForest Regressor"
   ]
  },
  {
   "cell_type": "code",
   "execution_count": 335,
   "id": "6ca5c3ef",
   "metadata": {
    "hidden": true
   },
   "outputs": [],
   "source": [
    "from sklearn.ensemble import RandomForestRegressor"
   ]
  },
  {
   "cell_type": "code",
   "execution_count": 336,
   "id": "75661f5e",
   "metadata": {
    "hidden": true
   },
   "outputs": [],
   "source": [
    "rf_model = RandomForestRegressor()"
   ]
  },
  {
   "cell_type": "code",
   "execution_count": 337,
   "id": "80278c6a",
   "metadata": {
    "hidden": true
   },
   "outputs": [
    {
     "data": {
      "text/plain": [
       "RandomForestRegressor()"
      ]
     },
     "execution_count": 337,
     "metadata": {},
     "output_type": "execute_result"
    }
   ],
   "source": [
    "rf_model.fit(X_train_1, y_train_1)"
   ]
  },
  {
   "cell_type": "code",
   "execution_count": 338,
   "id": "28e2b88a",
   "metadata": {
    "hidden": true
   },
   "outputs": [],
   "source": [
    "y_rf_model = rf_model.predict(X_test_1)"
   ]
  },
  {
   "cell_type": "code",
   "execution_count": 339,
   "id": "076c15f2",
   "metadata": {
    "hidden": true
   },
   "outputs": [
    {
     "data": {
      "text/plain": [
       "0.1345889326459535"
      ]
     },
     "execution_count": 339,
     "metadata": {},
     "output_type": "execute_result"
    }
   ],
   "source": [
    "r2_score(y_test_1, y_rf_model)"
   ]
  },
  {
   "cell_type": "code",
   "execution_count": 340,
   "id": "45a9ddb0",
   "metadata": {
    "hidden": true
   },
   "outputs": [
    {
     "data": {
      "text/plain": [
       "0.8515114296144763"
      ]
     },
     "execution_count": 340,
     "metadata": {},
     "output_type": "execute_result"
    }
   ],
   "source": [
    "y_rf_model_train = rf_model.predict(X_train_1)\n",
    "r2_score(y_train_1, y_rf_model_train)"
   ]
  },
  {
   "cell_type": "markdown",
   "id": "b3b91ecb",
   "metadata": {
    "hidden": true
   },
   "source": [
    "- possibility of overfit"
   ]
  },
  {
   "cell_type": "markdown",
   "id": "f45d9979",
   "metadata": {
    "heading_collapsed": true,
    "hidden": true
   },
   "source": [
    "### Hyperparameter tuning for add some bias to reduce variance"
   ]
  },
  {
   "cell_type": "code",
   "execution_count": 342,
   "id": "f39d5e9f",
   "metadata": {
    "hidden": true
   },
   "outputs": [],
   "source": [
    "RandomForestRegressor?"
   ]
  },
  {
   "cell_type": "code",
   "execution_count": 343,
   "id": "ee1776f6",
   "metadata": {
    "hidden": true
   },
   "outputs": [],
   "source": [
    "grid = {\n",
    "    \"criterion\": [\"mse\", \"mae\"],\n",
    "    \"max_depth\": [i for i in range(2, 10)],\n",
    "    \"min_samples_split\" : [i for i in range(2, 7)],\n",
    "    \"min_samples_leaf\" : [i for i in range(1, 7)]\n",
    "}"
   ]
  },
  {
   "cell_type": "code",
   "execution_count": 344,
   "id": "f8bfa694",
   "metadata": {
    "hidden": true
   },
   "outputs": [],
   "source": [
    "grid_search = GridSearchCV(RandomForestRegressor(), param_grid = grid, n_jobs = 2, cv = 5, verbose = 1)"
   ]
  },
  {
   "cell_type": "code",
   "execution_count": 345,
   "id": "82d7a56d",
   "metadata": {
    "hidden": true
   },
   "outputs": [
    {
     "name": "stdout",
     "output_type": "stream",
     "text": [
      "Fitting 5 folds for each of 480 candidates, totalling 2400 fits\n"
     ]
    },
    {
     "data": {
      "text/plain": [
       "GridSearchCV(cv=5, estimator=RandomForestRegressor(), n_jobs=2,\n",
       "             param_grid={'criterion': ['mse', 'mae'],\n",
       "                         'max_depth': [2, 3, 4, 5, 6, 7, 8, 9],\n",
       "                         'min_samples_leaf': [1, 2, 3, 4, 5, 6],\n",
       "                         'min_samples_split': [2, 3, 4, 5, 6]},\n",
       "             verbose=1)"
      ]
     },
     "execution_count": 345,
     "metadata": {},
     "output_type": "execute_result"
    }
   ],
   "source": [
    "grid_search.fit(X_train_1, y_train_1)"
   ]
  },
  {
   "cell_type": "code",
   "execution_count": 346,
   "id": "be2efeac",
   "metadata": {
    "hidden": true
   },
   "outputs": [
    {
     "data": {
      "text/plain": [
       "{'criterion': 'mae',\n",
       " 'max_depth': 7,\n",
       " 'min_samples_leaf': 4,\n",
       " 'min_samples_split': 2}"
      ]
     },
     "execution_count": 346,
     "metadata": {},
     "output_type": "execute_result"
    }
   ],
   "source": [
    "grid_search.best_params_"
   ]
  },
  {
   "cell_type": "code",
   "execution_count": 348,
   "id": "19e72473",
   "metadata": {
    "hidden": true
   },
   "outputs": [
    {
     "data": {
      "text/plain": [
       "0.26248173562359034"
      ]
     },
     "execution_count": 348,
     "metadata": {},
     "output_type": "execute_result"
    }
   ],
   "source": [
    "gs_rf_y = grid_search.predict(X_test_1)\n",
    "r2_score(y_test_1, gs_rf_y)"
   ]
  }
 ],
 "metadata": {
  "kernelspec": {
   "display_name": "Python 3",
   "language": "python",
   "name": "python3"
  },
  "language_info": {
   "codemirror_mode": {
    "name": "ipython",
    "version": 3
   },
   "file_extension": ".py",
   "mimetype": "text/x-python",
   "name": "python",
   "nbconvert_exporter": "python",
   "pygments_lexer": "ipython3",
   "version": "3.8.3"
  },
  "varInspector": {
   "cols": {
    "lenName": 16,
    "lenType": 16,
    "lenVar": 40
   },
   "kernels_config": {
    "python": {
     "delete_cmd_postfix": "",
     "delete_cmd_prefix": "del ",
     "library": "var_list.py",
     "varRefreshCmd": "print(var_dic_list())"
    },
    "r": {
     "delete_cmd_postfix": ") ",
     "delete_cmd_prefix": "rm(",
     "library": "var_list.r",
     "varRefreshCmd": "cat(var_dic_list()) "
    }
   },
   "types_to_exclude": [
    "module",
    "function",
    "builtin_function_or_method",
    "instance",
    "_Feature"
   ],
   "window_display": false
  }
 },
 "nbformat": 4,
 "nbformat_minor": 5
}
