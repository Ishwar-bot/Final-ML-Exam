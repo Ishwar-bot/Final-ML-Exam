{
 "cells": [
  {
   "cell_type": "markdown",
   "id": "ef11f5c2",
   "metadata": {},
   "source": [
    "# Problem Statement"
   ]
  },
  {
   "cell_type": "markdown",
   "id": "543ff8f7",
   "metadata": {},
   "source": [
    "Student Attendance Dashboard for Decision Making. You will be given Google Sheet with different sheet holding data of different classes. Create a dashboard showing summary of what's happening across different classes. Which students needs attention for missing session? Which students are unsatisfied? Which students are very satisfied? <Date> Column shows attendance. R-<Date> Column shows rating by the candidate. Extra marks for identifying more useful insights. Missing values of Type column can be treated as STUDENT. This data gets updated daily basis. Latest data gets injected in early columns. Your code shouldn't need any changes to deal with latest data. Data Link - https://docs.google.com/spreadsheets/d/1Y_g6LQI2GLqpKf-fj-rH7D9gfnP2MJzpFA6t0AsBMi8/edit?usp=sharing"
   ]
  },
  {
   "cell_type": "markdown",
   "id": "0ac8904d",
   "metadata": {},
   "source": [
    "## Importing Libraries"
   ]
  },
  {
   "cell_type": "code",
   "execution_count": 1,
   "id": "9b067e09",
   "metadata": {},
   "outputs": [],
   "source": [
    "import numpy as np\n",
    "import pandas as pd\n",
    "import matplotlib.pyplot as plt\n",
    "import seaborn as sns"
   ]
  },
  {
   "cell_type": "markdown",
   "id": "ce624c11",
   "metadata": {},
   "source": [
    "## Loading datasets"
   ]
  },
  {
   "cell_type": "code",
   "execution_count": 2,
   "id": "dc8ac4b9",
   "metadata": {},
   "outputs": [],
   "source": [
    "sheet_id = \"1Y_g6LQI2GLqpKf-fj-rH7D9gfnP2MJzpFA6t0AsBMi8\"\n",
    "sheet_name_1 = \"Class+1\"\n",
    "url_1 = \"https://docs.google.com/spreadsheets/d/{0}/gviz/tq?tqx=out:csv&sheet={1}\".format(sheet_id, sheet_name_1)"
   ]
  },
  {
   "cell_type": "code",
   "execution_count": 3,
   "id": "474a755a",
   "metadata": {},
   "outputs": [
    {
     "data": {
      "text/plain": [
       "'https://docs.google.com/spreadsheets/d/1Y_g6LQI2GLqpKf-fj-rH7D9gfnP2MJzpFA6t0AsBMi8/gviz/tq?tqx=out:csv&sheet=Class+1'"
      ]
     },
     "execution_count": 3,
     "metadata": {},
     "output_type": "execute_result"
    }
   ],
   "source": [
    "url_1"
   ]
  },
  {
   "cell_type": "code",
   "execution_count": 4,
   "id": "af91240f",
   "metadata": {},
   "outputs": [],
   "source": [
    "df_1 = pd.read_csv(url_1)"
   ]
  },
  {
   "cell_type": "code",
   "execution_count": 5,
   "id": "6f68fbee",
   "metadata": {},
   "outputs": [
    {
     "data": {
      "text/html": [
       "<div>\n",
       "<style scoped>\n",
       "    .dataframe tbody tr th:only-of-type {\n",
       "        vertical-align: middle;\n",
       "    }\n",
       "\n",
       "    .dataframe tbody tr th {\n",
       "        vertical-align: top;\n",
       "    }\n",
       "\n",
       "    .dataframe thead th {\n",
       "        text-align: right;\n",
       "    }\n",
       "</style>\n",
       "<table border=\"1\" class=\"dataframe\">\n",
       "  <thead>\n",
       "    <tr style=\"text-align: right;\">\n",
       "      <th></th>\n",
       "      <th>Unnamed: 0</th>\n",
       "      <th>Type</th>\n",
       "      <th>10-01-21</th>\n",
       "      <th>Unnamed: 3</th>\n",
       "      <th>09-01-21</th>\n",
       "      <th>Unnamed: 5</th>\n",
       "      <th>08-01-21</th>\n",
       "      <th>Unnamed: 7</th>\n",
       "      <th>07-01-21</th>\n",
       "      <th>Unnamed: 9</th>\n",
       "      <th>...</th>\n",
       "      <th>Unnamed: 13</th>\n",
       "      <th>04-01-21</th>\n",
       "      <th>Unnamed: 15</th>\n",
       "      <th>03-01-21</th>\n",
       "      <th>Unnamed: 17</th>\n",
       "      <th>02-01-21</th>\n",
       "      <th>Unnamed: 19</th>\n",
       "      <th>01-01-21</th>\n",
       "      <th>Unnamed: 21</th>\n",
       "      <th>Unnamed: 22</th>\n",
       "    </tr>\n",
       "  </thead>\n",
       "  <tbody>\n",
       "    <tr>\n",
       "      <th>0</th>\n",
       "      <td>1</td>\n",
       "      <td>WORKING</td>\n",
       "      <td>Missed</td>\n",
       "      <td>6</td>\n",
       "      <td>Missed</td>\n",
       "      <td>10</td>\n",
       "      <td>Missed</td>\n",
       "      <td>8</td>\n",
       "      <td>Missed</td>\n",
       "      <td>9</td>\n",
       "      <td>...</td>\n",
       "      <td>8</td>\n",
       "      <td>Missed</td>\n",
       "      <td>9</td>\n",
       "      <td>Missed</td>\n",
       "      <td>10</td>\n",
       "      <td>Missed</td>\n",
       "      <td>7</td>\n",
       "      <td>Missed</td>\n",
       "      <td>6</td>\n",
       "      <td>NaN</td>\n",
       "    </tr>\n",
       "    <tr>\n",
       "      <th>1</th>\n",
       "      <td>2</td>\n",
       "      <td>NaN</td>\n",
       "      <td>Missed</td>\n",
       "      <td>6</td>\n",
       "      <td>Missed</td>\n",
       "      <td>7</td>\n",
       "      <td>Missed</td>\n",
       "      <td>10</td>\n",
       "      <td>Attended</td>\n",
       "      <td>8</td>\n",
       "      <td>...</td>\n",
       "      <td>8</td>\n",
       "      <td>Attended</td>\n",
       "      <td>9</td>\n",
       "      <td>Missed</td>\n",
       "      <td>6</td>\n",
       "      <td>Attended</td>\n",
       "      <td>5</td>\n",
       "      <td>Missed</td>\n",
       "      <td>9</td>\n",
       "      <td>NaN</td>\n",
       "    </tr>\n",
       "    <tr>\n",
       "      <th>2</th>\n",
       "      <td>3</td>\n",
       "      <td>STUDENT</td>\n",
       "      <td>Missed</td>\n",
       "      <td>7</td>\n",
       "      <td>Missed</td>\n",
       "      <td>10</td>\n",
       "      <td>Missed</td>\n",
       "      <td>10</td>\n",
       "      <td>Missed</td>\n",
       "      <td>6</td>\n",
       "      <td>...</td>\n",
       "      <td>7</td>\n",
       "      <td>Missed</td>\n",
       "      <td>9</td>\n",
       "      <td>Missed</td>\n",
       "      <td>10</td>\n",
       "      <td>Attended</td>\n",
       "      <td>9</td>\n",
       "      <td>Attended</td>\n",
       "      <td>9</td>\n",
       "      <td>NaN</td>\n",
       "    </tr>\n",
       "    <tr>\n",
       "      <th>3</th>\n",
       "      <td>4</td>\n",
       "      <td>STUDENT</td>\n",
       "      <td>Missed</td>\n",
       "      <td>7</td>\n",
       "      <td>Missed</td>\n",
       "      <td>7</td>\n",
       "      <td>Attended</td>\n",
       "      <td>5</td>\n",
       "      <td>Missed</td>\n",
       "      <td>10</td>\n",
       "      <td>...</td>\n",
       "      <td>9</td>\n",
       "      <td>Attended</td>\n",
       "      <td>10</td>\n",
       "      <td>Attended</td>\n",
       "      <td>10</td>\n",
       "      <td>Attended</td>\n",
       "      <td>8</td>\n",
       "      <td>Attended</td>\n",
       "      <td>8</td>\n",
       "      <td>NaN</td>\n",
       "    </tr>\n",
       "    <tr>\n",
       "      <th>4</th>\n",
       "      <td>5</td>\n",
       "      <td>WORKING</td>\n",
       "      <td>Missed</td>\n",
       "      <td>5</td>\n",
       "      <td>Missed</td>\n",
       "      <td>5</td>\n",
       "      <td>Missed</td>\n",
       "      <td>7</td>\n",
       "      <td>Missed</td>\n",
       "      <td>6</td>\n",
       "      <td>...</td>\n",
       "      <td>6</td>\n",
       "      <td>Missed</td>\n",
       "      <td>9</td>\n",
       "      <td>Missed</td>\n",
       "      <td>7</td>\n",
       "      <td>Missed</td>\n",
       "      <td>5</td>\n",
       "      <td>Missed</td>\n",
       "      <td>5</td>\n",
       "      <td>NaN</td>\n",
       "    </tr>\n",
       "    <tr>\n",
       "      <th>5</th>\n",
       "      <td>6</td>\n",
       "      <td>NaN</td>\n",
       "      <td>Missed</td>\n",
       "      <td>6</td>\n",
       "      <td>Missed</td>\n",
       "      <td>6</td>\n",
       "      <td>Missed</td>\n",
       "      <td>8</td>\n",
       "      <td>Missed</td>\n",
       "      <td>6</td>\n",
       "      <td>...</td>\n",
       "      <td>7</td>\n",
       "      <td>Attended</td>\n",
       "      <td>10</td>\n",
       "      <td>Attended</td>\n",
       "      <td>5</td>\n",
       "      <td>Attended</td>\n",
       "      <td>6</td>\n",
       "      <td>Attended</td>\n",
       "      <td>6</td>\n",
       "      <td>NaN</td>\n",
       "    </tr>\n",
       "    <tr>\n",
       "      <th>6</th>\n",
       "      <td>7</td>\n",
       "      <td>STUDENT</td>\n",
       "      <td>Attended</td>\n",
       "      <td>6</td>\n",
       "      <td>Attended</td>\n",
       "      <td>8</td>\n",
       "      <td>Attended</td>\n",
       "      <td>7</td>\n",
       "      <td>Attended</td>\n",
       "      <td>6</td>\n",
       "      <td>...</td>\n",
       "      <td>7</td>\n",
       "      <td>Attended</td>\n",
       "      <td>6</td>\n",
       "      <td>Attended</td>\n",
       "      <td>7</td>\n",
       "      <td>Attended</td>\n",
       "      <td>6</td>\n",
       "      <td>Attended</td>\n",
       "      <td>7</td>\n",
       "      <td>NaN</td>\n",
       "    </tr>\n",
       "  </tbody>\n",
       "</table>\n",
       "<p>7 rows × 23 columns</p>\n",
       "</div>"
      ],
      "text/plain": [
       "   Unnamed: 0     Type  10-01-21  Unnamed: 3  09-01-21  Unnamed: 5  08-01-21  \\\n",
       "0           1  WORKING    Missed           6    Missed          10    Missed   \n",
       "1           2      NaN    Missed           6    Missed           7    Missed   \n",
       "2           3  STUDENT    Missed           7    Missed          10    Missed   \n",
       "3           4  STUDENT    Missed           7    Missed           7  Attended   \n",
       "4           5  WORKING    Missed           5    Missed           5    Missed   \n",
       "5           6      NaN    Missed           6    Missed           6    Missed   \n",
       "6           7  STUDENT  Attended           6  Attended           8  Attended   \n",
       "\n",
       "   Unnamed: 7  07-01-21  Unnamed: 9  ... Unnamed: 13  04-01-21 Unnamed: 15  \\\n",
       "0           8    Missed           9  ...           8    Missed           9   \n",
       "1          10  Attended           8  ...           8  Attended           9   \n",
       "2          10    Missed           6  ...           7    Missed           9   \n",
       "3           5    Missed          10  ...           9  Attended          10   \n",
       "4           7    Missed           6  ...           6    Missed           9   \n",
       "5           8    Missed           6  ...           7  Attended          10   \n",
       "6           7  Attended           6  ...           7  Attended           6   \n",
       "\n",
       "   03-01-21 Unnamed: 17  02-01-21 Unnamed: 19  01-01-21 Unnamed: 21  \\\n",
       "0    Missed          10    Missed           7    Missed           6   \n",
       "1    Missed           6  Attended           5    Missed           9   \n",
       "2    Missed          10  Attended           9  Attended           9   \n",
       "3  Attended          10  Attended           8  Attended           8   \n",
       "4    Missed           7    Missed           5    Missed           5   \n",
       "5  Attended           5  Attended           6  Attended           6   \n",
       "6  Attended           7  Attended           6  Attended           7   \n",
       "\n",
       "   Unnamed: 22  \n",
       "0          NaN  \n",
       "1          NaN  \n",
       "2          NaN  \n",
       "3          NaN  \n",
       "4          NaN  \n",
       "5          NaN  \n",
       "6          NaN  \n",
       "\n",
       "[7 rows x 23 columns]"
      ]
     },
     "execution_count": 5,
     "metadata": {},
     "output_type": "execute_result"
    }
   ],
   "source": [
    "df_1.head(7).iloc[:, :23]"
   ]
  },
  {
   "cell_type": "code",
   "execution_count": 6,
   "id": "f4eb24db",
   "metadata": {},
   "outputs": [
    {
     "data": {
      "text/plain": [
       "Index(['Unnamed: 0', 'Type', '10-01-21', 'Unnamed: 3', '09-01-21',\n",
       "       'Unnamed: 5', '08-01-21', 'Unnamed: 7', '07-01-21', 'Unnamed: 9',\n",
       "       '06-01-21', 'Unnamed: 11', '05-01-21', 'Unnamed: 13', '04-01-21',\n",
       "       'Unnamed: 15', '03-01-21', 'Unnamed: 17', '02-01-21', 'Unnamed: 19',\n",
       "       '01-01-21', 'Unnamed: 21', 'Unnamed: 22', 'Unnamed: 23', 'Unnamed: 24',\n",
       "       'Unnamed: 25', 'Unnamed: 26', 'Unnamed: 27', 'Unnamed: 28',\n",
       "       'Unnamed: 29', 'Unnamed: 30', 'Unnamed: 31', 'Unnamed: 32',\n",
       "       'Unnamed: 33', 'Unnamed: 34'],\n",
       "      dtype='object')"
      ]
     },
     "execution_count": 6,
     "metadata": {},
     "output_type": "execute_result"
    }
   ],
   "source": [
    "df_1.columns"
   ]
  },
  {
   "cell_type": "code",
   "execution_count": 7,
   "id": "19354f0b",
   "metadata": {},
   "outputs": [],
   "source": [
    "sheet_name_2 = \"Class+2\"\n",
    "url_2 = \"https://docs.google.com/spreadsheets/d/{0}/gviz/tq?tqx=out:csv&sheet={1}\".format(sheet_id, sheet_name_2)"
   ]
  },
  {
   "cell_type": "code",
   "execution_count": 8,
   "id": "7453226a",
   "metadata": {},
   "outputs": [
    {
     "data": {
      "text/plain": [
       "'https://docs.google.com/spreadsheets/d/1Y_g6LQI2GLqpKf-fj-rH7D9gfnP2MJzpFA6t0AsBMi8/gviz/tq?tqx=out:csv&sheet=Class+2'"
      ]
     },
     "execution_count": 8,
     "metadata": {},
     "output_type": "execute_result"
    }
   ],
   "source": [
    "url_2"
   ]
  },
  {
   "cell_type": "code",
   "execution_count": 9,
   "id": "b488390e",
   "metadata": {},
   "outputs": [],
   "source": [
    "df_2 = pd.read_csv(url_2)"
   ]
  },
  {
   "cell_type": "code",
   "execution_count": 10,
   "id": "e10acadf",
   "metadata": {
    "scrolled": true
   },
   "outputs": [
    {
     "data": {
      "text/html": [
       "<div>\n",
       "<style scoped>\n",
       "    .dataframe tbody tr th:only-of-type {\n",
       "        vertical-align: middle;\n",
       "    }\n",
       "\n",
       "    .dataframe tbody tr th {\n",
       "        vertical-align: top;\n",
       "    }\n",
       "\n",
       "    .dataframe thead th {\n",
       "        text-align: right;\n",
       "    }\n",
       "</style>\n",
       "<table border=\"1\" class=\"dataframe\">\n",
       "  <thead>\n",
       "    <tr style=\"text-align: right;\">\n",
       "      <th></th>\n",
       "      <th>Unnamed: 0</th>\n",
       "      <th>Type</th>\n",
       "      <th>10-01-21</th>\n",
       "      <th>Unnamed: 3</th>\n",
       "      <th>09-01-21</th>\n",
       "      <th>Unnamed: 5</th>\n",
       "      <th>08-01-21</th>\n",
       "      <th>Unnamed: 7</th>\n",
       "      <th>07-01-21</th>\n",
       "      <th>Unnamed: 9</th>\n",
       "      <th>...</th>\n",
       "      <th>05-01-21</th>\n",
       "      <th>Unnamed: 13</th>\n",
       "      <th>04-01-21</th>\n",
       "      <th>Unnamed: 15</th>\n",
       "      <th>03-01-21</th>\n",
       "      <th>Unnamed: 17</th>\n",
       "      <th>Unnamed: 18</th>\n",
       "      <th>Unnamed: 19</th>\n",
       "      <th>01-01-21</th>\n",
       "      <th>R-01-01-21</th>\n",
       "    </tr>\n",
       "  </thead>\n",
       "  <tbody>\n",
       "    <tr>\n",
       "      <th>0</th>\n",
       "      <td>1</td>\n",
       "      <td>NaN</td>\n",
       "      <td>Attended</td>\n",
       "      <td>9</td>\n",
       "      <td>Attended</td>\n",
       "      <td>10</td>\n",
       "      <td>Attended</td>\n",
       "      <td>10</td>\n",
       "      <td>Attended</td>\n",
       "      <td>9</td>\n",
       "      <td>...</td>\n",
       "      <td>Attended</td>\n",
       "      <td>8</td>\n",
       "      <td>Attended</td>\n",
       "      <td>9</td>\n",
       "      <td>Missed</td>\n",
       "      <td>9</td>\n",
       "      <td>NaN</td>\n",
       "      <td>NaN</td>\n",
       "      <td>NaN</td>\n",
       "      <td>NaN</td>\n",
       "    </tr>\n",
       "    <tr>\n",
       "      <th>1</th>\n",
       "      <td>2</td>\n",
       "      <td>NaN</td>\n",
       "      <td>Attended</td>\n",
       "      <td>8</td>\n",
       "      <td>Attended</td>\n",
       "      <td>8</td>\n",
       "      <td>Attended</td>\n",
       "      <td>10</td>\n",
       "      <td>Attended</td>\n",
       "      <td>6</td>\n",
       "      <td>...</td>\n",
       "      <td>Attended</td>\n",
       "      <td>6</td>\n",
       "      <td>Attended</td>\n",
       "      <td>6</td>\n",
       "      <td>Attended</td>\n",
       "      <td>10</td>\n",
       "      <td>NaN</td>\n",
       "      <td>NaN</td>\n",
       "      <td>NaN</td>\n",
       "      <td>NaN</td>\n",
       "    </tr>\n",
       "  </tbody>\n",
       "</table>\n",
       "<p>2 rows × 22 columns</p>\n",
       "</div>"
      ],
      "text/plain": [
       "   Unnamed: 0 Type  10-01-21  Unnamed: 3  09-01-21  Unnamed: 5  08-01-21  \\\n",
       "0           1  NaN  Attended           9  Attended          10  Attended   \n",
       "1           2  NaN  Attended           8  Attended           8  Attended   \n",
       "\n",
       "   Unnamed: 7  07-01-21  Unnamed: 9  ...  05-01-21  Unnamed: 13  04-01-21  \\\n",
       "0          10  Attended           9  ...  Attended            8  Attended   \n",
       "1          10  Attended           6  ...  Attended            6  Attended   \n",
       "\n",
       "   Unnamed: 15  03-01-21  Unnamed: 17 Unnamed: 18  Unnamed: 19  01-01-21  \\\n",
       "0            9    Missed            9         NaN          NaN       NaN   \n",
       "1            6  Attended           10         NaN          NaN       NaN   \n",
       "\n",
       "   R-01-01-21  \n",
       "0         NaN  \n",
       "1         NaN  \n",
       "\n",
       "[2 rows x 22 columns]"
      ]
     },
     "execution_count": 10,
     "metadata": {},
     "output_type": "execute_result"
    }
   ],
   "source": [
    "df_2.head(2)"
   ]
  },
  {
   "cell_type": "code",
   "execution_count": 11,
   "id": "fade70c1",
   "metadata": {},
   "outputs": [
    {
     "data": {
      "text/plain": [
       "Index(['Unnamed: 0', 'Type', '10-01-21', 'Unnamed: 3', '09-01-21',\n",
       "       'Unnamed: 5', '08-01-21', 'Unnamed: 7', '07-01-21', 'Unnamed: 9',\n",
       "       '06-01-21', 'Unnamed: 11', '05-01-21', 'Unnamed: 13', '04-01-21',\n",
       "       'Unnamed: 15', '03-01-21', 'Unnamed: 17', 'Unnamed: 18', 'Unnamed: 19',\n",
       "       '01-01-21', 'R-01-01-21'],\n",
       "      dtype='object')"
      ]
     },
     "execution_count": 11,
     "metadata": {},
     "output_type": "execute_result"
    }
   ],
   "source": [
    "df_2.columns"
   ]
  },
  {
   "cell_type": "markdown",
   "id": "cede6bdf",
   "metadata": {},
   "source": [
    "## Data Cleaning"
   ]
  },
  {
   "cell_type": "markdown",
   "id": "509c1932",
   "metadata": {},
   "source": [
    "- 'Unnamed: 0' is a column with student roll number, changing it's name and setting it as and id"
   ]
  },
  {
   "cell_type": "code",
   "execution_count": 12,
   "id": "d9bf1be5",
   "metadata": {},
   "outputs": [],
   "source": [
    "df_1[\"Student Roll No\"] = df_1['Unnamed: 0']\n",
    "df_1 = df_1.drop(labels = 'Unnamed: 0', axis = 1)"
   ]
  },
  {
   "cell_type": "code",
   "execution_count": 13,
   "id": "e112b737",
   "metadata": {},
   "outputs": [],
   "source": [
    "df_2[\"Student Roll No\"] = df_2['Unnamed: 0']\n",
    "df_2 = df_2.drop(labels = 'Unnamed: 0', axis = 1)"
   ]
  },
  {
   "cell_type": "code",
   "execution_count": 14,
   "id": "f21ddd7b",
   "metadata": {},
   "outputs": [],
   "source": [
    "df_1 = df_1.set_index(keys = \"Student Roll No\")"
   ]
  },
  {
   "cell_type": "code",
   "execution_count": 15,
   "id": "1962c6fd",
   "metadata": {},
   "outputs": [],
   "source": [
    "df_2 = df_2.set_index(keys = \"Student Roll No\")"
   ]
  },
  {
   "cell_type": "markdown",
   "id": "fab1d826",
   "metadata": {},
   "source": [
    "- for some reasons columns starting with \"R-\" are not getting identified\n",
    "- adding those column names to those columns with missing column names"
   ]
  },
  {
   "cell_type": "code",
   "execution_count": 16,
   "id": "eeb6ab4f",
   "metadata": {},
   "outputs": [],
   "source": [
    "for i in range(len(df_1.columns) - 2):\n",
    "    if df_1.columns[i+ 1][:7] == \"Unnamed\" and df_1.columns[i][:7] != \"Unnamed\":\n",
    "        df_1[\"R-\" + df_1.columns[i]] = df_1[df_1.columns[i + 1]]\n",
    "        df_1 = df_1.drop(labels = df_1.columns[i + 1], axis = 1)"
   ]
  },
  {
   "cell_type": "code",
   "execution_count": 17,
   "id": "3ba0b00b",
   "metadata": {},
   "outputs": [
    {
     "data": {
      "text/plain": [
       "Index(['Type', '10-01-21', '09-01-21', '08-01-21', '07-01-21', '06-01-21',\n",
       "       '05-01-21', '04-01-21', '03-01-21', '02-01-21', '01-01-21',\n",
       "       'Unnamed: 22', 'Unnamed: 23', 'Unnamed: 24', 'Unnamed: 25',\n",
       "       'Unnamed: 26', 'Unnamed: 27', 'Unnamed: 28', 'Unnamed: 29',\n",
       "       'Unnamed: 30', 'Unnamed: 31', 'Unnamed: 32', 'Unnamed: 33',\n",
       "       'Unnamed: 34', 'R-10-01-21', 'R-09-01-21', 'R-08-01-21', 'R-07-01-21',\n",
       "       'R-06-01-21', 'R-05-01-21', 'R-04-01-21', 'R-03-01-21', 'R-02-01-21',\n",
       "       'R-01-01-21'],\n",
       "      dtype='object')"
      ]
     },
     "execution_count": 17,
     "metadata": {},
     "output_type": "execute_result"
    }
   ],
   "source": [
    "df_1.columns"
   ]
  },
  {
   "cell_type": "markdown",
   "id": "9a1de675",
   "metadata": {},
   "source": [
    "- now we only have those empty 'Unnamed' columns"
   ]
  },
  {
   "cell_type": "code",
   "execution_count": 18,
   "id": "bfe1f0a7",
   "metadata": {},
   "outputs": [],
   "source": [
    "temp = []\n",
    "for i in range(len(df_1.columns)):\n",
    "    if df_1.columns[i][:7] == \"Unnamed\":\n",
    "        temp.append(df_1.columns[i])\n",
    "df_1 = df_1.drop(labels = temp, axis = 1)"
   ]
  },
  {
   "cell_type": "code",
   "execution_count": 19,
   "id": "7ac3d82b",
   "metadata": {},
   "outputs": [
    {
     "data": {
      "text/plain": [
       "Index(['Type', '10-01-21', '09-01-21', '08-01-21', '07-01-21', '06-01-21',\n",
       "       '05-01-21', '04-01-21', '03-01-21', '02-01-21', '01-01-21',\n",
       "       'R-10-01-21', 'R-09-01-21', 'R-08-01-21', 'R-07-01-21', 'R-06-01-21',\n",
       "       'R-05-01-21', 'R-04-01-21', 'R-03-01-21', 'R-02-01-21', 'R-01-01-21'],\n",
       "      dtype='object')"
      ]
     },
     "execution_count": 19,
     "metadata": {},
     "output_type": "execute_result"
    }
   ],
   "source": [
    "df_1.columns"
   ]
  },
  {
   "cell_type": "markdown",
   "id": "23667d35",
   "metadata": {},
   "source": [
    "- doing the same for second df"
   ]
  },
  {
   "cell_type": "code",
   "execution_count": 20,
   "id": "19e09224",
   "metadata": {},
   "outputs": [],
   "source": [
    "for i in range(len(df_2.columns) - 2):\n",
    "    if df_2.columns[i+ 1][:7] == \"Unnamed\" and df_2.columns[i][:7] != \"Unnamed\":\n",
    "        df_2[\"R-\" + df_2.columns[i]] = df_2[df_2.columns[i + 1]]\n",
    "        df_2 = df_2.drop(labels = df_2.columns[i + 1], axis = 1)"
   ]
  },
  {
   "cell_type": "code",
   "execution_count": 21,
   "id": "7dbab8ea",
   "metadata": {},
   "outputs": [],
   "source": [
    "temp = []\n",
    "for i in range(len(df_2.columns)):\n",
    "    if df_2.columns[i][:7] == \"Unnamed\":\n",
    "        temp.append(df_2.columns[i])\n",
    "df_2 = df_2.drop(labels = temp, axis = 1)"
   ]
  },
  {
   "cell_type": "code",
   "execution_count": 22,
   "id": "652d2b2c",
   "metadata": {},
   "outputs": [
    {
     "data": {
      "text/plain": [
       "Index(['Type', '10-01-21', '09-01-21', '08-01-21', '07-01-21', '06-01-21',\n",
       "       '05-01-21', '04-01-21', '03-01-21', '01-01-21', 'R-01-01-21',\n",
       "       'R-10-01-21', 'R-09-01-21', 'R-08-01-21', 'R-07-01-21', 'R-06-01-21',\n",
       "       'R-05-01-21', 'R-04-01-21', 'R-03-01-21'],\n",
       "      dtype='object')"
      ]
     },
     "execution_count": 22,
     "metadata": {},
     "output_type": "execute_result"
    }
   ],
   "source": [
    "df_2.columns"
   ]
  },
  {
   "cell_type": "markdown",
   "id": "6aeb9449",
   "metadata": {},
   "source": [
    "- adding new category for missing values in column \"Type\" as \"STUDENT\""
   ]
  },
  {
   "cell_type": "code",
   "execution_count": 23,
   "id": "7bb0b88d",
   "metadata": {},
   "outputs": [],
   "source": [
    "df_1[\"Type\"] = df_1[\"Type\"].fillna(\"STUDENT\")"
   ]
  },
  {
   "cell_type": "code",
   "execution_count": 24,
   "id": "8d76b13f",
   "metadata": {},
   "outputs": [],
   "source": [
    "df_2[\"Type\"] = df_2[\"Type\"].fillna(\"STUDENT\")"
   ]
  },
  {
   "cell_type": "code",
   "execution_count": 25,
   "id": "124941ac",
   "metadata": {
    "scrolled": true
   },
   "outputs": [
    {
     "data": {
      "text/plain": [
       "STUDENT    45\n",
       "WORKING     9\n",
       "IGNORE      2\n",
       "DROPOUT     1\n",
       "Name: Type, dtype: int64"
      ]
     },
     "execution_count": 25,
     "metadata": {},
     "output_type": "execute_result"
    }
   ],
   "source": [
    "df_1[\"Type\"].value_counts()"
   ]
  },
  {
   "cell_type": "code",
   "execution_count": 26,
   "id": "d3644cb0",
   "metadata": {},
   "outputs": [
    {
     "data": {
      "text/plain": [
       "STUDENT    49\n",
       "WORKING    16\n",
       "DROPOUT     3\n",
       "IGNORE      2\n",
       "Name: Type, dtype: int64"
      ]
     },
     "execution_count": 26,
     "metadata": {},
     "output_type": "execute_result"
    }
   ],
   "source": [
    "df_2[\"Type\"].value_counts()"
   ]
  },
  {
   "cell_type": "markdown",
   "id": "bcb9fc63",
   "metadata": {},
   "source": [
    "- seperating dataframe into attendance and rating \n",
    "- df_1_R would contain ratings along with type"
   ]
  },
  {
   "cell_type": "code",
   "execution_count": 27,
   "id": "0bcdf41e",
   "metadata": {},
   "outputs": [],
   "source": [
    "temp = []\n",
    "for i in range(len(df_1.columns)) :\n",
    "    if df_1.columns[i][0] != \"R\":\n",
    "        temp.append(df_1.columns[i])\n",
    "df_1_R = df_1.drop(labels = temp, axis = 1)\n",
    "df_1 = df_1.drop(labels = list(df_1_R.columns), axis = 1)\n",
    "df_1_R[\"Type\"] = df_1[\"Type\"]"
   ]
  },
  {
   "cell_type": "code",
   "execution_count": 29,
   "id": "4157ae05",
   "metadata": {},
   "outputs": [
    {
     "data": {
      "text/plain": [
       "Index(['R-10-01-21', 'R-09-01-21', 'R-08-01-21', 'R-07-01-21', 'R-06-01-21',\n",
       "       'R-05-01-21', 'R-04-01-21', 'R-03-01-21', 'R-02-01-21', 'R-01-01-21',\n",
       "       'Type'],\n",
       "      dtype='object')"
      ]
     },
     "execution_count": 29,
     "metadata": {},
     "output_type": "execute_result"
    }
   ],
   "source": [
    "df_1_R.columns"
   ]
  },
  {
   "cell_type": "code",
   "execution_count": 30,
   "id": "9a52a2aa",
   "metadata": {},
   "outputs": [
    {
     "data": {
      "text/plain": [
       "Index(['Type', '10-01-21', '09-01-21', '08-01-21', '07-01-21', '06-01-21',\n",
       "       '05-01-21', '04-01-21', '03-01-21', '02-01-21', '01-01-21'],\n",
       "      dtype='object')"
      ]
     },
     "execution_count": 30,
     "metadata": {},
     "output_type": "execute_result"
    }
   ],
   "source": [
    "df_1.columns"
   ]
  },
  {
   "cell_type": "markdown",
   "id": "6e28a004",
   "metadata": {},
   "source": [
    "- doing the same for df_2"
   ]
  },
  {
   "cell_type": "code",
   "execution_count": 31,
   "id": "c9ef6a87",
   "metadata": {},
   "outputs": [],
   "source": [
    "temp = []\n",
    "for i in range(len(df_2.columns)) :\n",
    "    if df_2.columns[i][0] != \"R\":\n",
    "        temp.append(df_2.columns[i])\n",
    "df_2_R = df_2.drop(labels = temp, axis = 1)\n",
    "df_2 = df_2.drop(labels = list(df_2_R.columns), axis = 1)\n",
    "df_2_R[\"Type\"] = df_2[\"Type\"]"
   ]
  },
  {
   "cell_type": "code",
   "execution_count": 33,
   "id": "bcb1c101",
   "metadata": {},
   "outputs": [
    {
     "data": {
      "text/plain": [
       "Index(['Type', '10-01-21', '09-01-21', '08-01-21', '07-01-21', '06-01-21',\n",
       "       '05-01-21', '04-01-21', '03-01-21', '01-01-21'],\n",
       "      dtype='object')"
      ]
     },
     "execution_count": 33,
     "metadata": {},
     "output_type": "execute_result"
    }
   ],
   "source": [
    "df_2.columns"
   ]
  },
  {
   "cell_type": "code",
   "execution_count": 34,
   "id": "ed4d72cd",
   "metadata": {},
   "outputs": [
    {
     "data": {
      "text/plain": [
       "Index(['R-01-01-21', 'R-10-01-21', 'R-09-01-21', 'R-08-01-21', 'R-07-01-21',\n",
       "       'R-06-01-21', 'R-05-01-21', 'R-04-01-21', 'R-03-01-21', 'Type'],\n",
       "      dtype='object')"
      ]
     },
     "execution_count": 34,
     "metadata": {},
     "output_type": "execute_result"
    }
   ],
   "source": [
    "df_2_R.columns"
   ]
  },
  {
   "cell_type": "markdown",
   "id": "2cc43ef7",
   "metadata": {},
   "source": [
    "# Analysis"
   ]
  },
  {
   "cell_type": "markdown",
   "id": "5d44a3c5",
   "metadata": {
    "heading_collapsed": true
   },
   "source": [
    "## SELECT CLASS"
   ]
  },
  {
   "cell_type": "code",
   "execution_count": 101,
   "id": "217a3582",
   "metadata": {
    "hidden": true
   },
   "outputs": [
    {
     "name": "stdout",
     "output_type": "stream",
     "text": [
      "IF you want to see analysis of class 1 enter 1 or for analysis of class 2 enter 2:\n",
      "1\n",
      "class 1 selected.\n"
     ]
    }
   ],
   "source": [
    "print(\"IF you want to see analysis of class 1 enter 1 or for analysis of class 2 enter 2:\")\n",
    "a = input()\n",
    "if a.isnumeric():\n",
    "    if int(a) == 1:\n",
    "        df = df_1\n",
    "        df_R = df_1_R\n",
    "        print(\"class 1 selected.\")\n",
    "    elif int(a) == 2:\n",
    "        df = df_2\n",
    "        df_R = df_2_R\n",
    "        print(\"class 2 selected.\")\n",
    "    else:\n",
    "        print(\"Enter Valid Input!\")\n",
    "else:\n",
    "    print(\"Enter Valid Input!\")"
   ]
  },
  {
   "cell_type": "markdown",
   "id": "43ec5385",
   "metadata": {
    "heading_collapsed": true
   },
   "source": [
    "## Overview of the class"
   ]
  },
  {
   "cell_type": "code",
   "execution_count": 115,
   "id": "60212e10",
   "metadata": {
    "hidden": true
   },
   "outputs": [
    {
     "name": "stdout",
     "output_type": "stream",
     "text": [
      "Total number of students in the class is 57\n",
      "Data Between Dates 01-01-21(DD-MM-YY) and 10-01-21(DD-MM-YY)\n",
      "\n",
      "Type Wise Distribution of the class\n",
      "STUDENT    45\n",
      "WORKING     9\n",
      "IGNORE      2\n",
      "DROPOUT     1\n",
      "Name: Type, dtype: int64 \n",
      "\n",
      "Total Missing values in the data: 7\n"
     ]
    }
   ],
   "source": [
    "print(\"Total number of students in the class is\", df.shape[0])\n",
    "print(\"Data Between Dates {}(DD-MM-YY) and {}(DD-MM-YY)\".format(df.columns[len(df.columns) - 1], df.columns[1]))\n",
    "print(\"\\nType Wise Distribution of the class\")\n",
    "print(df[\"Type\"].value_counts(), \"\\n\")\n",
    "print(\"Total Missing values in the data:\", df_R.isnull().sum().sum() + df.isnull().sum().sum())"
   ]
  },
  {
   "cell_type": "markdown",
   "id": "8dcfaa10",
   "metadata": {
    "heading_collapsed": true
   },
   "source": [
    "## Unsatsfied and Satisfied Students"
   ]
  },
  {
   "cell_type": "markdown",
   "id": "a5e42382",
   "metadata": {
    "heading_collapsed": true,
    "hidden": true
   },
   "source": [
    "### Top \"N\" unsatisfied students with their average score"
   ]
  },
  {
   "cell_type": "markdown",
   "id": "0820d2fe",
   "metadata": {
    "hidden": true
   },
   "source": [
    "- Enter N, by default 10"
   ]
  },
  {
   "cell_type": "code",
   "execution_count": 103,
   "id": "438fc12a",
   "metadata": {
    "hidden": true
   },
   "outputs": [
    {
     "name": "stdout",
     "output_type": "stream",
     "text": [
      "Total number of students in the class is 57\n"
     ]
    }
   ],
   "source": [
    "print(\"Total number of students in the class is\", df.shape[0])"
   ]
  },
  {
   "cell_type": "code",
   "execution_count": 104,
   "id": "c0759aa3",
   "metadata": {
    "hidden": true
   },
   "outputs": [],
   "source": [
    "N = 10 #(make sure it doesn't exceed total number of students)"
   ]
  },
  {
   "cell_type": "code",
   "execution_count": 105,
   "id": "9137dfc4",
   "metadata": {
    "hidden": true
   },
   "outputs": [
    {
     "name": "stdout",
     "output_type": "stream",
     "text": [
      "Student Roll No\n",
      "5     6.0\n",
      "14    6.3\n",
      "42    6.6\n",
      "7     6.6\n",
      "48    6.8\n",
      "20    6.9\n",
      "6     6.9\n",
      "28    7.1\n",
      "50    7.1\n",
      "52    7.1\n",
      "dtype: float64\n"
     ]
    }
   ],
   "source": [
    "print(df_R.mean(axis = 1).sort_values(ascending = True)[:N])\n",
    "# On the left is student Roll number followed by their average score(ignoring missing values)"
   ]
  },
  {
   "cell_type": "markdown",
   "id": "4d63cd18",
   "metadata": {
    "heading_collapsed": true,
    "hidden": true
   },
   "source": [
    "### Unsatisfied students with some cutoff average score."
   ]
  },
  {
   "cell_type": "markdown",
   "id": "8fa48e9d",
   "metadata": {
    "hidden": true
   },
   "source": [
    "- All students with average score less than cutoff value would be shown in order of least satisfied to most.(Enter cut_off value, by default value = 7)\n",
    "- Also printing number of students below the cutoff value"
   ]
  },
  {
   "cell_type": "code",
   "execution_count": 106,
   "id": "cb1cee78",
   "metadata": {
    "hidden": true
   },
   "outputs": [],
   "source": [
    "cutoff_value = 7"
   ]
  },
  {
   "cell_type": "code",
   "execution_count": 107,
   "id": "978b339c",
   "metadata": {
    "hidden": true
   },
   "outputs": [
    {
     "name": "stdout",
     "output_type": "stream",
     "text": [
      "Student Roll No\n",
      "5     6.0\n",
      "14    6.3\n",
      "42    6.6\n",
      "7     6.6\n",
      "48    6.8\n",
      "20    6.9\n",
      "6     6.9\n",
      "dtype: float64\n",
      "Total number of students below cutoff level: 7\n"
     ]
    }
   ],
   "source": [
    "temp = df_R.mean(axis = 1).sort_values(ascending = True)\n",
    "print(temp[temp < cutoff_value])\n",
    "# On the left is student Roll number followed by their average score(ignoring missing values)\n",
    "print(\"Total number of students below cutoff level:\", len(temp[temp < cutoff_value]))"
   ]
  },
  {
   "cell_type": "markdown",
   "id": "74762375",
   "metadata": {
    "heading_collapsed": true,
    "hidden": true
   },
   "source": [
    "### Top \"N\" satisfied students with their average score"
   ]
  },
  {
   "cell_type": "markdown",
   "id": "9a2aa05b",
   "metadata": {
    "hidden": true
   },
   "source": [
    "- Enter N, by default 10"
   ]
  },
  {
   "cell_type": "code",
   "execution_count": 116,
   "id": "ce16b964",
   "metadata": {
    "hidden": true
   },
   "outputs": [
    {
     "name": "stdout",
     "output_type": "stream",
     "text": [
      "Total number of students in the class is 57\n"
     ]
    }
   ],
   "source": [
    "print(\"Total number of students in the class is\", df.shape[0])"
   ]
  },
  {
   "cell_type": "code",
   "execution_count": 117,
   "id": "8ce17b74",
   "metadata": {
    "hidden": true
   },
   "outputs": [],
   "source": [
    "N = 10 #(make sure it doesn't exceed total number of students)"
   ]
  },
  {
   "cell_type": "code",
   "execution_count": 121,
   "id": "e3cbfa68",
   "metadata": {
    "hidden": true
   },
   "outputs": [
    {
     "name": "stdout",
     "output_type": "stream",
     "text": [
      "Student Roll No\n",
      "3     8.5\n",
      "4     8.4\n",
      "19    8.2\n",
      "21    8.1\n",
      "47    8.1\n",
      "8     8.1\n",
      "16    8.1\n",
      "37    8.0\n",
      "33    8.0\n",
      "27    8.0\n",
      "dtype: float64\n"
     ]
    }
   ],
   "source": [
    "print(df_R.mean(axis = 1).sort_values(ascending = False)[:N])\n",
    "#On the left is student Roll number followed by their average score(ignoring missing values)"
   ]
  },
  {
   "cell_type": "markdown",
   "id": "b47f34e2",
   "metadata": {
    "heading_collapsed": true,
    "hidden": true
   },
   "source": [
    "### satisfied students with some cutoff average score."
   ]
  },
  {
   "cell_type": "markdown",
   "id": "135c9668",
   "metadata": {
    "hidden": true
   },
   "source": [
    "- All students with average score more than cutoff value would be shown in order of most satisfied to least.(Enter cut_off value, by default value = 8)\n",
    "- Also printing number of students above the cutoff value"
   ]
  },
  {
   "cell_type": "code",
   "execution_count": 123,
   "id": "f1b62868",
   "metadata": {
    "hidden": true
   },
   "outputs": [],
   "source": [
    "cutoff_value = 8"
   ]
  },
  {
   "cell_type": "code",
   "execution_count": 125,
   "id": "841f8b73",
   "metadata": {
    "hidden": true
   },
   "outputs": [
    {
     "name": "stdout",
     "output_type": "stream",
     "text": [
      "Student Roll No\n",
      "3     8.5\n",
      "4     8.4\n",
      "19    8.2\n",
      "21    8.1\n",
      "47    8.1\n",
      "8     8.1\n",
      "16    8.1\n",
      "dtype: float64\n",
      "Total number of students above cutoff level: 7\n"
     ]
    }
   ],
   "source": [
    "temp = df_R.mean(axis = 1).sort_values(ascending = False)\n",
    "print(temp[temp > cutoff_value])\n",
    "# On the left is student Roll number followed by their average score(ignoring missing values)\n",
    "print(\"Total number of students above cutoff level:\", len(temp[temp > cutoff_value]))"
   ]
  },
  {
   "cell_type": "markdown",
   "id": "f707808b",
   "metadata": {
    "heading_collapsed": true
   },
   "source": [
    "## Attendance Analysis"
   ]
  },
  {
   "cell_type": "code",
   "execution_count": 161,
   "id": "191fd1a4",
   "metadata": {
    "hidden": true
   },
   "outputs": [],
   "source": [
    "attendance_df = df.fillna(\"NA\")"
   ]
  },
  {
   "cell_type": "markdown",
   "id": "ded5c9af",
   "metadata": {
    "heading_collapsed": true,
    "hidden": true
   },
   "source": [
    "### Day-Wise attendance"
   ]
  },
  {
   "cell_type": "code",
   "execution_count": 167,
   "id": "68034c88",
   "metadata": {
    "hidden": true
   },
   "outputs": [
    {
     "name": "stdout",
     "output_type": "stream",
     "text": [
      "attendance on 10-01-21 is: 45.61%\n",
      "attendance on 09-01-21 is: 43.86%\n",
      "attendance on 08-01-21 is: 47.37%\n",
      "attendance on 07-01-21 is: 52.63%\n",
      "attendance on 06-01-21 is: 49.12%\n",
      "attendance on 05-01-21 is: 49.12%\n",
      "attendance on 04-01-21 is: 56.14%\n",
      "attendance on 03-01-21 is: 47.37%\n",
      "attendance on 02-01-21 is: 59.65%\n",
      "attendance on 01-01-21 is: 52.63%\n"
     ]
    }
   ],
   "source": [
    "for i in range(len(attendance_df.columns)):\n",
    "    if attendance_df.columns[i] != \"Type\":\n",
    "        temp = attendance_df[attendance_df.columns[i]].value_counts()\n",
    "        print(\"attendance on {} is: {}%\".format(attendance_df.columns[i], round((temp[\"Attended\"] / temp.sum()) * 100, 2)))"
   ]
  },
  {
   "cell_type": "markdown",
   "id": "ec5f0525",
   "metadata": {
    "heading_collapsed": true,
    "hidden": true
   },
   "source": [
    "### Student-Wise attendance"
   ]
  },
  {
   "cell_type": "code",
   "execution_count": 180,
   "id": "1ee68602",
   "metadata": {
    "hidden": true
   },
   "outputs": [
    {
     "name": "stdout",
     "output_type": "stream",
     "text": [
      "attendance of roll no 1 is: 0%\n",
      "attendance of roll no 2 is: 40.0%\n",
      "attendance of roll no 3 is: 40.0%\n",
      "attendance of roll no 4 is: 50.0%\n",
      "attendance of roll no 5 is: 0%\n",
      "attendance of roll no 6 is: 40.0%\n",
      "attendance of roll no 7 is: 100.0%\n",
      "attendance of roll no 8 is: 0%\n",
      "attendance of roll no 9 is: 0%\n",
      "attendance of roll no 10 is: 0%\n",
      "attendance of roll no 11 is: 100.0%\n",
      "attendance of roll no 12 is: 100.0%\n",
      "attendance of roll no 13 is: 100.0%\n",
      "attendance of roll no 14 is: 90.0%\n",
      "attendance of roll no 15 is: 100.0%\n",
      "attendance of roll no 16 is: 60.0%\n",
      "attendance of roll no 17 is: 50.0%\n",
      "attendance of roll no 18 is: 0%\n",
      "attendance of roll no 19 is: 0%\n",
      "attendance of roll no 20 is: 60.0%\n",
      "attendance of roll no 21 is: 0%\n",
      "attendance of roll no 22 is: 100.0%\n",
      "attendance of roll no 23 is: 0%\n",
      "attendance of roll no 24 is: 80.0%\n",
      "attendance of roll no 25 is: 100.0%\n",
      "attendance of roll no 26 is: 90.0%\n",
      "attendance of roll no 27 is: 40.0%\n",
      "attendance of roll no 28 is: 100.0%\n",
      "attendance of roll no 29 is: 90.0%\n",
      "attendance of roll no 30 is: 60.0%\n",
      "attendance of roll no 31 is: 100.0%\n",
      "attendance of roll no 32 is: 0%\n",
      "attendance of roll no 33 is: 0%\n",
      "attendance of roll no 34 is: 100.0%\n",
      "attendance of roll no 35 is: 0%\n",
      "attendance of roll no 36 is: 0%\n",
      "attendance of roll no 37 is: 20.0%\n",
      "attendance of roll no 38 is: 90.0%\n",
      "attendance of roll no 39 is: 0%\n",
      "attendance of roll no 40 is: 80.0%\n",
      "attendance of roll no 41 is: 100.0%\n",
      "attendance of roll no 42 is: 70.0%\n",
      "attendance of roll no 43 is: 0%\n",
      "attendance of roll no 44 is: 100.0%\n",
      "attendance of roll no 45 is: 100.0%\n",
      "attendance of roll no 46 is: 30.0%\n",
      "attendance of roll no 47 is: 90.0%\n",
      "attendance of roll no 48 is: 60.0%\n",
      "attendance of roll no 49 is: 0%\n",
      "attendance of roll no 50 is: 0%\n",
      "attendance of roll no 51 is: 0%\n",
      "attendance of roll no 52 is: 0%\n",
      "attendance of roll no 53 is: 50.0%\n",
      "attendance of roll no 54 is: 90.0%\n",
      "attendance of roll no 55 is: 30.0%\n",
      "attendance of roll no 56 is: 80.0%\n",
      "attendance of roll no 57 is: 90.0%\n"
     ]
    }
   ],
   "source": [
    "for i in range(len(attendance_df.index)):\n",
    "    temp = (attendance_df.iloc[i, 1:]).value_counts()\n",
    "    \n",
    "    if \"Attended\" in temp.index:\n",
    "        print(\"attendance of roll no {} is: {}%\".format(attendance_df.index[i], round((temp[\"Attended\"] / temp.sum()) * 100, 2)))\n",
    "    else:\n",
    "        print(\"attendance of roll no {} is: {}%\".format(attendance_df.index[i], 0))\n",
    "        "
   ]
  },
  {
   "cell_type": "markdown",
   "id": "3f58f3e8",
   "metadata": {
    "heading_collapsed": true,
    "hidden": true
   },
   "source": [
    "### Top-N most attending student"
   ]
  },
  {
   "cell_type": "markdown",
   "id": "64ffe64e",
   "metadata": {
    "hidden": true
   },
   "source": [
    "- will print top N Students with most attendance in descending order(Enter value below the total student in class, by default value = 10)"
   ]
  },
  {
   "cell_type": "code",
   "execution_count": 188,
   "id": "96805740",
   "metadata": {
    "hidden": true
   },
   "outputs": [
    {
     "name": "stdout",
     "output_type": "stream",
     "text": [
      "Total number of students in the class is 57\n"
     ]
    }
   ],
   "source": [
    "print(\"Total number of students in the class is\", df.shape[0])"
   ]
  },
  {
   "cell_type": "code",
   "execution_count": 186,
   "id": "d38c2ce6",
   "metadata": {
    "hidden": true
   },
   "outputs": [],
   "source": [
    "N = 10#Change this value"
   ]
  },
  {
   "cell_type": "code",
   "execution_count": 187,
   "id": "7501475a",
   "metadata": {
    "hidden": true
   },
   "outputs": [
    {
     "data": {
      "text/plain": [
       "Student Roll No\n",
       "34    100.0\n",
       "22    100.0\n",
       "28    100.0\n",
       "15    100.0\n",
       "31    100.0\n",
       "13    100.0\n",
       "12    100.0\n",
       "11    100.0\n",
       "25    100.0\n",
       "41    100.0\n",
       "dtype: float64"
      ]
     },
     "execution_count": 187,
     "metadata": {},
     "output_type": "execute_result"
    }
   ],
   "source": [
    "temp_list = []\n",
    "for i in range(len(attendance_df.index)):\n",
    "    temp = (attendance_df.iloc[i, 1:]).value_counts()\n",
    "    if \"Attended\" in temp.index:\n",
    "        temp_list.append((temp[\"Attended\"] / temp.sum()) * 100)\n",
    "    else:\n",
    "        temp_list.append(0)\n",
    "pd.Series(temp_list, index = attendance_df.index).sort_values(ascending = False)[:N]"
   ]
  },
  {
   "cell_type": "markdown",
   "id": "154076c0",
   "metadata": {
    "heading_collapsed": true,
    "hidden": true
   },
   "source": [
    "### Top-N least attending student"
   ]
  },
  {
   "cell_type": "markdown",
   "id": "ea4c845c",
   "metadata": {
    "hidden": true
   },
   "source": [
    "- will print top N Students with least attendance in ascending order(Enter value below the total student in class, by default value = 10)"
   ]
  },
  {
   "cell_type": "code",
   "execution_count": 190,
   "id": "ba252b08",
   "metadata": {
    "hidden": true
   },
   "outputs": [
    {
     "name": "stdout",
     "output_type": "stream",
     "text": [
      "Total number of students in the class is 57\n"
     ]
    }
   ],
   "source": [
    "print(\"Total number of students in the class is\", df.shape[0])"
   ]
  },
  {
   "cell_type": "code",
   "execution_count": 195,
   "id": "60384753",
   "metadata": {
    "hidden": true
   },
   "outputs": [],
   "source": [
    "N = 10 #Change this value"
   ]
  },
  {
   "cell_type": "code",
   "execution_count": 196,
   "id": "b0522ce7",
   "metadata": {
    "hidden": true
   },
   "outputs": [
    {
     "data": {
      "text/plain": [
       "Student Roll No\n",
       "1     0.0\n",
       "36    0.0\n",
       "35    0.0\n",
       "33    0.0\n",
       "32    0.0\n",
       "43    0.0\n",
       "23    0.0\n",
       "49    0.0\n",
       "21    0.0\n",
       "19    0.0\n",
       "dtype: float64"
      ]
     },
     "execution_count": 196,
     "metadata": {},
     "output_type": "execute_result"
    }
   ],
   "source": [
    "temp_list = []\n",
    "for i in range(len(attendance_df.index)):\n",
    "    temp = (attendance_df.iloc[i, 1:]).value_counts()\n",
    "    if \"Attended\" in temp.index:\n",
    "        temp_list.append((temp[\"Attended\"] / temp.sum()) * 100)\n",
    "    else:\n",
    "        temp_list.append(0)\n",
    "pd.Series(temp_list, index = attendance_df.index).sort_values()[:N]"
   ]
  },
  {
   "cell_type": "markdown",
   "id": "a00b9c5e",
   "metadata": {
    "heading_collapsed": true,
    "hidden": true
   },
   "source": [
    "### Type wise Attendance"
   ]
  },
  {
   "cell_type": "code",
   "execution_count": 207,
   "id": "08168731",
   "metadata": {
    "hidden": true
   },
   "outputs": [
    {
     "name": "stdout",
     "output_type": "stream",
     "text": [
      "attendance in Type 'WORKING':47.78%\n",
      "attendance in Type 'STUDENT':54.22%\n",
      "attendance in Type 'IGNORE':0.0%\n",
      "attendance in Type 'DROPOUT':0.0%\n"
     ]
    }
   ],
   "source": [
    "for i in attendance_df[\"Type\"].unique():\n",
    "    temp_df = attendance_df[attendance_df[\"Type\"] == i].drop(labels = \"Type\", axis = 1)\n",
    "    attendance = 0\n",
    "    for j in range(len(temp_df.columns)):\n",
    "        temp = temp_df[temp_df.columns[j]].value_counts()\n",
    "        if \"Attended\" in temp.index:\n",
    "            attendance += temp[\"Attended\"]\n",
    "    print(\"attendance in Type '{}':{}%\".format(i, round((attendance / (temp_df.shape[0] * temp_df.shape[1]) * 100), 2)))"
   ]
  }
 ],
 "metadata": {
  "kernelspec": {
   "display_name": "Python 3",
   "language": "python",
   "name": "python3"
  },
  "language_info": {
   "codemirror_mode": {
    "name": "ipython",
    "version": 3
   },
   "file_extension": ".py",
   "mimetype": "text/x-python",
   "name": "python",
   "nbconvert_exporter": "python",
   "pygments_lexer": "ipython3",
   "version": "3.8.3"
  },
  "varInspector": {
   "cols": {
    "lenName": 16,
    "lenType": 16,
    "lenVar": 40
   },
   "kernels_config": {
    "python": {
     "delete_cmd_postfix": "",
     "delete_cmd_prefix": "del ",
     "library": "var_list.py",
     "varRefreshCmd": "print(var_dic_list())"
    },
    "r": {
     "delete_cmd_postfix": ") ",
     "delete_cmd_prefix": "rm(",
     "library": "var_list.r",
     "varRefreshCmd": "cat(var_dic_list()) "
    }
   },
   "oldHeight": 396.4,
   "position": {
    "height": "40px",
    "left": "1148.2px",
    "right": "20px",
    "top": "120px",
    "width": "351px"
   },
   "types_to_exclude": [
    "module",
    "function",
    "builtin_function_or_method",
    "instance",
    "_Feature"
   ],
   "varInspector_section_display": "none",
   "window_display": true
  }
 },
 "nbformat": 4,
 "nbformat_minor": 5
}
