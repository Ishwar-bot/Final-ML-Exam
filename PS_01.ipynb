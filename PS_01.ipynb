{
 "cells": [
  {
   "cell_type": "code",
   "execution_count": 14,
   "id": "b05be3eb",
   "metadata": {},
   "outputs": [],
   "source": [
    "import numpy as np\n",
    "import pandas as pd\n",
    "import base64\n",
    "import tweepy\n",
    "import requests"
   ]
  },
  {
   "cell_type": "code",
   "execution_count": 7,
   "id": "bacaaf59",
   "metadata": {},
   "outputs": [],
   "source": [
    "consumer_key = \"sQF5YaNf0jAERVDAIcdkUOBKp\" \n",
    "consumer_secret_key = \"rALTgpJ6cmTlJzTl2hD5XrxsZfn0rNP86oRjJncssjEYWIrnVy\" \n",
    "bearer_token = \"AAAAAAAAAAAAAAAAAAAAAOi%2FRAEAAAAAc2R7ctTubaRJMdCl2vcq1gXopaQ%3DaWO59fF1JYkG68luhIVOvQxwoesb9ijsA8VoDii1h2WFJxjhbi\""
   ]
  },
  {
   "cell_type": "code",
   "execution_count": 12,
   "id": "b9a4de52",
   "metadata": {},
   "outputs": [],
   "source": [
    "key_secret = \"{0}:{1}\".format(consumer_key, consumer_secret_key).encode('ascii')\n",
    "b64_encoded_key = base64.b64encode(key_secret)\n",
    "b64_encoded_key = b64_encoded_key.decode('ascii')"
   ]
  },
  {
   "cell_type": "code",
   "execution_count": 15,
   "id": "a32538d5",
   "metadata": {},
   "outputs": [
    {
     "name": "stdout",
     "output_type": "stream",
     "text": [
      "200\n"
     ]
    }
   ],
   "source": [
    "base_url = 'https://api.twitter.com/'\n",
    "auth_url = '{}oauth2/token'.format(base_url)\n",
    "auth_headers = {\n",
    "    'Authorization': 'Basic {}'.format(b64_encoded_key),\n",
    "    'Content-Type': 'application/x-www-form-urlencoded;charset=UTF-8'\n",
    "}\n",
    "auth_data = {\n",
    "    'grant_type': 'client_credentials'\n",
    "}\n",
    "auth_resp = requests.post(auth_url, headers=auth_headers, data=auth_data)\n",
    "print(auth_resp.status_code)\n",
    "access_token = auth_resp.json()['access_token']"
   ]
  },
  {
   "cell_type": "code",
   "execution_count": 19,
   "id": "15bf9d60",
   "metadata": {},
   "outputs": [
    {
     "name": "stdout",
     "output_type": "stream",
     "text": [
      "1 #BJPGujaratGoons\n",
      "2 SSR Warriors Will Win\n",
      "3 #ValimaiMotionposter\n",
      "4 #ComeToIslam\n",
      "5 #StillWithYou1stWin\n",
      "6 #ENGvIND\n",
      "7 27YRS OF BLOCKBUSTER MOHRA\n",
      "8 मुकुल गोयल\n",
      "9 GOLDEN PRODUCER JK\n",
      "10 kyungsoo\n"
     ]
    }
   ],
   "source": [
    "WOEID = 23424848 #Where On Earth IDentifier codefor India\n",
    "trend_headers = {\n",
    "    'Authorization': 'Bearer {}'.format(access_token)    \n",
    "}\n",
    "\n",
    "trend_params = {\n",
    "    'id': WOEID,\n",
    "}\n",
    "\n",
    "trend_url = 'https://api.twitter.com/1.1/trends/place.json'  \n",
    "trend_resp = requests.get(trend_url, headers=trend_headers, params=trend_params)\n",
    "tweet_data = trend_resp.json()\n",
    "for i in range(0,10):\n",
    "    print(i + 1, tweet_data[0]['trends'][i][\"name\"])"
   ]
  }
 ],
 "metadata": {
  "kernelspec": {
   "display_name": "Python 3",
   "language": "python",
   "name": "python3"
  },
  "language_info": {
   "codemirror_mode": {
    "name": "ipython",
    "version": 3
   },
   "file_extension": ".py",
   "mimetype": "text/x-python",
   "name": "python",
   "nbconvert_exporter": "python",
   "pygments_lexer": "ipython3",
   "version": "3.8.3"
  },
  "varInspector": {
   "cols": {
    "lenName": 16,
    "lenType": 16,
    "lenVar": 40
   },
   "kernels_config": {
    "python": {
     "delete_cmd_postfix": "",
     "delete_cmd_prefix": "del ",
     "library": "var_list.py",
     "varRefreshCmd": "print(var_dic_list())"
    },
    "r": {
     "delete_cmd_postfix": ") ",
     "delete_cmd_prefix": "rm(",
     "library": "var_list.r",
     "varRefreshCmd": "cat(var_dic_list()) "
    }
   },
   "types_to_exclude": [
    "module",
    "function",
    "builtin_function_or_method",
    "instance",
    "_Feature"
   ],
   "window_display": false
  }
 },
 "nbformat": 4,
 "nbformat_minor": 5
}
