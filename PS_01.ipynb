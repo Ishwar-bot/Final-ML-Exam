{
 "cells": [
  {
   "cell_type": "code",
   "execution_count": 1,
   "id": "b05be3eb",
   "metadata": {},
   "outputs": [],
   "source": [
    "import numpy as np\n",
    "import pandas as pd\n",
    "import matplotlib.pyplot as plt\n",
    "import seaborn as sns"
   ]
  },
  {
   "cell_type": "code",
   "execution_count": 7,
   "id": "b40480a2",
   "metadata": {},
   "outputs": [],
   "source": [
    "import base64"
   ]
  },
  {
   "cell_type": "code",
   "execution_count": 4,
   "id": "bacaaf59",
   "metadata": {},
   "outputs": [],
   "source": [
    "consumer_key = \"S5uPBzIgItpRoyONNFaRzuCFN\" \n",
    "consumer_key_secret = \"3oPQWhR8TsVn5nIyixekKJVaLC34S7huEfof8W75p29FCnuJ11\" \n",
    "bearer_token = \"AAAAAAAAAAAAAAAAAAAAAOi%2FRAEAAAAAc2R7ctTubaRJMdCl2vcq1gXopaQ%3DaWO59fF1JYkG68luhIVOvQxwoesb9ijsA8VoDii1h2WFJxjhbi\""
   ]
  },
  {
   "cell_type": "code",
   "execution_count": 5,
   "id": "b9a4de52",
   "metadata": {},
   "outputs": [],
   "source": [
    "key_secret = \"{0}:{1}\".format(consumer_key, consumer_key_secret)"
   ]
  },
  {
   "cell_type": "code",
   "execution_count": 6,
   "id": "a32538d5",
   "metadata": {},
   "outputs": [
    {
     "data": {
      "text/plain": [
       "'S5uPBzIgItpRoyONNFaRzuCFN:3oPQWhR8TsVn5nIyixekKJVaLC34S7huEfof8W75p29FCnuJ11'"
      ]
     },
     "execution_count": 6,
     "metadata": {},
     "output_type": "execute_result"
    }
   ],
   "source": [
    "key_secret"
   ]
  },
  {
   "cell_type": "code",
   "execution_count": null,
   "id": "15bf9d60",
   "metadata": {},
   "outputs": [],
   "source": []
  }
 ],
 "metadata": {
  "kernelspec": {
   "display_name": "Python 3",
   "language": "python",
   "name": "python3"
  },
  "language_info": {
   "codemirror_mode": {
    "name": "ipython",
    "version": 3
   },
   "file_extension": ".py",
   "mimetype": "text/x-python",
   "name": "python",
   "nbconvert_exporter": "python",
   "pygments_lexer": "ipython3",
   "version": "3.8.3"
  },
  "varInspector": {
   "cols": {
    "lenName": 16,
    "lenType": 16,
    "lenVar": 40
   },
   "kernels_config": {
    "python": {
     "delete_cmd_postfix": "",
     "delete_cmd_prefix": "del ",
     "library": "var_list.py",
     "varRefreshCmd": "print(var_dic_list())"
    },
    "r": {
     "delete_cmd_postfix": ") ",
     "delete_cmd_prefix": "rm(",
     "library": "var_list.r",
     "varRefreshCmd": "cat(var_dic_list()) "
    }
   },
   "types_to_exclude": [
    "module",
    "function",
    "builtin_function_or_method",
    "instance",
    "_Feature"
   ],
   "window_display": false
  }
 },
 "nbformat": 4,
 "nbformat_minor": 5
}
